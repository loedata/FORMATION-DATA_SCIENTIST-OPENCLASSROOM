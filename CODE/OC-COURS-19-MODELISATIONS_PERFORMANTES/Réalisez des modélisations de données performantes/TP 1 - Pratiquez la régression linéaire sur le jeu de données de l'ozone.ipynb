{
 "cells": [
  {
   "cell_type": "markdown",
   "metadata": {},
   "source": [
    "# <font color=\"#8333ff\">TP : Pratiquez la régression linéaire sur le jeu de données de l'ozone</font>"
   ]
  },
  {
   "cell_type": "markdown",
   "metadata": {},
   "source": [
    "Mettons maintenant en œuvre la régression linéaire sur le pic d'ozone, expliqué par la température à midi. Voyons la phase d'estimation du modèle, puis mettons en œuvre une prévision.\n",
    "\n",
    "## Importez les données\n",
    "\n",
    "On commence par charger les librairies numpy, pandas et seaborn qui nous permettront de réaliser ce TP"
   ]
  },
  {
   "cell_type": "code",
   "execution_count": 1,
   "metadata": {},
   "outputs": [],
   "source": [
    "import pandas as pd\n",
    "import numpy as np\n",
    "import seaborn as sns\n",
    "import matplotlib.pyplot as plt\n",
    "import statsmodels.api as sm\n",
    "import statsmodels.formula.api as smf"
   ]
  },
  {
   "cell_type": "markdown",
   "metadata": {},
   "source": [
    "On importe le fichier ozone, qui contient 112 données recueillies dans la ville de Rennes durant l'été 2001."
   ]
  },
  {
   "cell_type": "code",
   "execution_count": 5,
   "metadata": {},
   "outputs": [],
   "source": [
    "import pandas as pd\n",
    "\n",
    "ozone = pd.read_csv('ozone.txt', sep=\";\", decimal=',')"
   ]
  },
  {
   "cell_type": "markdown",
   "metadata": {},
   "source": [
    "On trouve dans ce fichier des variables telles que :\n",
    "- MaxO3, qui est la valeur maximale d'ozone observée sur une journée ;\n",
    "- T9, T12 et T15 qui sont les températures prises respectivement à 9 h, 12 h et 15 h ;\n",
    "- Ne9, Ne12, Ne15 qui sont des nébulosités prises à 9 h, 12 h et 15 h ;\n",
    "- Vx9, Vx12 et Vx15 qui sont les composantes est-ouest du vent mesurées à 9 h, 12 h et 15 h ;\n",
    "- MaxO3V, qui donne la teneur maximale en ozone observée la veille ;\n",
    "- vent, l'orientation du vent à 12 h ;\n",
    "- pluie, la présence ou non de pluie."
   ]
  },
  {
   "cell_type": "markdown",
   "metadata": {},
   "source": [
    "## Visualisez le jeu de données\n",
    "\n",
    "Visualisons l'ensemble des données avec cette commande."
   ]
  },
  {
   "cell_type": "code",
   "execution_count": 6,
   "metadata": {},
   "outputs": [
    {
     "data": {
      "text/html": [
       "<div>\n",
       "<style scoped>\n",
       "    .dataframe tbody tr th:only-of-type {\n",
       "        vertical-align: middle;\n",
       "    }\n",
       "\n",
       "    .dataframe tbody tr th {\n",
       "        vertical-align: top;\n",
       "    }\n",
       "\n",
       "    .dataframe thead th {\n",
       "        text-align: right;\n",
       "    }\n",
       "</style>\n",
       "<table border=\"1\" class=\"dataframe\">\n",
       "  <thead>\n",
       "    <tr style=\"text-align: right;\">\n",
       "      <th></th>\n",
       "      <th>obs</th>\n",
       "      <th>maxO3</th>\n",
       "      <th>T9</th>\n",
       "      <th>T12</th>\n",
       "      <th>T15</th>\n",
       "      <th>Ne9</th>\n",
       "      <th>Ne12</th>\n",
       "      <th>Ne15</th>\n",
       "      <th>Vx9</th>\n",
       "      <th>Vx12</th>\n",
       "      <th>Vx15</th>\n",
       "      <th>maxO3v</th>\n",
       "      <th>vent</th>\n",
       "      <th>pluie</th>\n",
       "    </tr>\n",
       "  </thead>\n",
       "  <tbody>\n",
       "    <tr>\n",
       "      <th>0</th>\n",
       "      <td>601</td>\n",
       "      <td>87</td>\n",
       "      <td>15.6</td>\n",
       "      <td>18.5</td>\n",
       "      <td>18.4</td>\n",
       "      <td>4</td>\n",
       "      <td>4</td>\n",
       "      <td>8</td>\n",
       "      <td>0.6946</td>\n",
       "      <td>-1.7101</td>\n",
       "      <td>-0.6946</td>\n",
       "      <td>84</td>\n",
       "      <td>Nord</td>\n",
       "      <td>Sec</td>\n",
       "    </tr>\n",
       "    <tr>\n",
       "      <th>1</th>\n",
       "      <td>602</td>\n",
       "      <td>82</td>\n",
       "      <td>17.0</td>\n",
       "      <td>18.4</td>\n",
       "      <td>17.7</td>\n",
       "      <td>5</td>\n",
       "      <td>5</td>\n",
       "      <td>7</td>\n",
       "      <td>-4.3301</td>\n",
       "      <td>-4.0000</td>\n",
       "      <td>-3.0000</td>\n",
       "      <td>87</td>\n",
       "      <td>Nord</td>\n",
       "      <td>Sec</td>\n",
       "    </tr>\n",
       "    <tr>\n",
       "      <th>2</th>\n",
       "      <td>603</td>\n",
       "      <td>92</td>\n",
       "      <td>15.3</td>\n",
       "      <td>17.6</td>\n",
       "      <td>19.5</td>\n",
       "      <td>2</td>\n",
       "      <td>5</td>\n",
       "      <td>4</td>\n",
       "      <td>2.9544</td>\n",
       "      <td>1.8794</td>\n",
       "      <td>0.5209</td>\n",
       "      <td>82</td>\n",
       "      <td>Est</td>\n",
       "      <td>Sec</td>\n",
       "    </tr>\n",
       "    <tr>\n",
       "      <th>3</th>\n",
       "      <td>604</td>\n",
       "      <td>114</td>\n",
       "      <td>16.2</td>\n",
       "      <td>19.7</td>\n",
       "      <td>22.5</td>\n",
       "      <td>1</td>\n",
       "      <td>1</td>\n",
       "      <td>0</td>\n",
       "      <td>0.9848</td>\n",
       "      <td>0.3473</td>\n",
       "      <td>-0.1736</td>\n",
       "      <td>92</td>\n",
       "      <td>Nord</td>\n",
       "      <td>Sec</td>\n",
       "    </tr>\n",
       "    <tr>\n",
       "      <th>4</th>\n",
       "      <td>605</td>\n",
       "      <td>94</td>\n",
       "      <td>17.4</td>\n",
       "      <td>20.5</td>\n",
       "      <td>20.4</td>\n",
       "      <td>8</td>\n",
       "      <td>8</td>\n",
       "      <td>7</td>\n",
       "      <td>-0.5000</td>\n",
       "      <td>-2.9544</td>\n",
       "      <td>-4.3301</td>\n",
       "      <td>114</td>\n",
       "      <td>Ouest</td>\n",
       "      <td>Sec</td>\n",
       "    </tr>\n",
       "  </tbody>\n",
       "</table>\n",
       "</div>"
      ],
      "text/plain": [
       "   obs  maxO3    T9   T12   T15  Ne9  Ne12  Ne15     Vx9    Vx12    Vx15  \\\n",
       "0  601     87  15.6  18.5  18.4    4     4     8  0.6946 -1.7101 -0.6946   \n",
       "1  602     82  17.0  18.4  17.7    5     5     7 -4.3301 -4.0000 -3.0000   \n",
       "2  603     92  15.3  17.6  19.5    2     5     4  2.9544  1.8794  0.5209   \n",
       "3  604    114  16.2  19.7  22.5    1     1     0  0.9848  0.3473 -0.1736   \n",
       "4  605     94  17.4  20.5  20.4    8     8     7 -0.5000 -2.9544 -4.3301   \n",
       "\n",
       "   maxO3v   vent pluie  \n",
       "0      84   Nord   Sec  \n",
       "1      87   Nord   Sec  \n",
       "2      82    Est   Sec  \n",
       "3      92   Nord   Sec  \n",
       "4     114  Ouest   Sec  "
      ]
     },
     "execution_count": 6,
     "metadata": {},
     "output_type": "execute_result"
    }
   ],
   "source": [
    "ozone.head()"
   ]
  },
  {
   "cell_type": "markdown",
   "metadata": {},
   "source": [
    "On peut représenter graphiquement le nuage de points maxO3 en fonction de T12:"
   ]
  },
  {
   "cell_type": "code",
   "execution_count": 8,
   "metadata": {},
   "outputs": [
    {
     "data": {
      "image/png": "[encoded data removed]",
      "text/plain": [
       "<Figure size 432x288 with 1 Axes>"
      ]
     },
     "metadata": {},
     "output_type": "display_data"
    }
   ],
   "source": [
    "sns.set()\n",
    "\n",
    "ax = sns.scatterplot(x=\"T12\", y=\"maxO3\", data=ozone)\n",
    "ax.set(xlabel='T12', ylabel='MaxO3')\n",
    "ax.xaxis.set_major_locator(plt.MaxNLocator(5))"
   ]
  },
  {
   "cell_type": "markdown",
   "metadata": {},
   "source": [
    "*Ce nuage de points nous fait penser à un alignement selon une forme qui n'est pas très loin d'une droite.*\n",
    "\n",
    "## Réalisez une régression linéaire simple\n",
    "\n",
    "Essayons de lancer une régression linéaire simple sur ce nuage de points :"
   ]
  },
  {
   "cell_type": "code",
   "execution_count": 9,
   "metadata": {},
   "outputs": [],
   "source": [
    "reg_simp = smf.ols('maxO3 ~ T12', data=ozone).fit()"
   ]
  },
  {
   "cell_type": "markdown",
   "metadata": {},
   "source": [
    "Voici les résultats en sortie de cette commande :"
   ]
  },
  {
   "cell_type": "code",
   "execution_count": 10,
   "metadata": {},
   "outputs": [
    {
     "name": "stdout",
     "output_type": "stream",
     "text": [
      "                            OLS Regression Results                            \n",
      "==============================================================================\n",
      "Dep. Variable:                  maxO3   R-squared:                       0.615\n",
      "Model:                            OLS   Adj. R-squared:                  0.612\n",
      "Method:                 Least Squares   F-statistic:                     175.8\n",
      "Date:                Fri, 30 Oct 2020   Prob (F-statistic):           1.51e-24\n",
      "Time:                        12:06:06   Log-Likelihood:                -478.91\n",
      "No. Observations:                 112   AIC:                             961.8\n",
      "Df Residuals:                     110   BIC:                             967.3\n",
      "Df Model:                           1                                         \n",
      "Covariance Type:            nonrobust                                         \n",
      "==============================================================================\n",
      "                 coef    std err          t      P>|t|      [0.025      0.975]\n",
      "------------------------------------------------------------------------------\n",
      "Intercept    -27.4196      9.033     -3.035      0.003     -45.322      -9.517\n",
      "T12            5.4687      0.412     13.258      0.000       4.651       6.286\n",
      "==============================================================================\n",
      "Omnibus:                        1.154   Durbin-Watson:                   1.101\n",
      "Prob(Omnibus):                  0.562   Jarque-Bera (JB):                1.242\n",
      "Skew:                           0.196   Prob(JB):                        0.537\n",
      "Kurtosis:                       2.664   Cond. No.                         119.\n",
      "==============================================================================\n",
      "\n",
      "Notes:\n",
      "[1] Standard Errors assume that the covariance matrix of the errors is correctly specified.\n"
     ]
    }
   ],
   "source": [
    "print(reg_simp.summary())"
   ]
  },
  {
   "cell_type": "markdown",
   "metadata": {},
   "source": [
    "Nous obtenons des statistiques sur les coefficients obtenus : leur valeur, leur écart-type, la statistique de test de Student, et la p-valeur (le test effectué sur le paramètre est ici le test de significativité : le paramètre vaut 0 versus le paramètre est différent de 0), ainsi que des statistiques sur le modèle général ($R^{2}$, $AIC$, etc...).\n",
    "\n",
    "*Les p-valeurs sont inférieures à 5 %. À un niveau de test de 5 %, on rejette donc l'hypothèse selon laquelle le paramètre est égal à 0 : les paramètres sont donc significativement différents de 0.\n",
    "Ici, on voit que la variable T12 est significative.*\n",
    "\n",
    "Quant au $R^{2}$, il est de l'ordre de 0.6. Ce n'est pas très élevé, mais ceci est logique au vu de la dispersion du nuage de points originel.\n",
    "\n",
    "## Visualisez la droite de régression\n",
    "\n",
    "Alors, voyons à quoi ressemble notre droite."
   ]
  },
  {
   "cell_type": "code",
   "execution_count": 13,
   "metadata": {},
   "outputs": [
    {
     "data": {
      "image/png": "[encoded data removed]",
      "text/plain": [
       "<Figure size 360x360 with 1 Axes>"
      ]
     },
     "metadata": {},
     "output_type": "display_data"
    }
   ],
   "source": [
    "ax = sns.lmplot(x=\"T12\", y=\"maxO3\", data=ozone, ci=None, line_kws={'color':'black'})\n",
    "ax.set(xlabel='T12', ylabel='MaxO3')\n",
    "plt.show()"
   ]
  },
  {
   "cell_type": "markdown",
   "metadata": {},
   "source": [
    "On peut également représenter les valeurs ajustées en fonction des valeurs observées :"
   ]
  },
  {
   "cell_type": "code",
   "execution_count": 16,
   "metadata": {},
   "outputs": [
    {
     "data": {
      "image/png": "[encoded data removed]",
      "text/plain": [
       "<Figure size 432x288 with 1 Axes>"
      ]
     },
     "metadata": {},
     "output_type": "display_data"
    }
   ],
   "source": [
    "ozone['maxO3_ajust_s'] = reg_simp.predict() # prédictions\n",
    "\n",
    "X_plot = [ozone['maxO3'].min(), ozone['maxO3'].max()]\n",
    "\n",
    "ax = sns.scatterplot(x=\"maxO3\", y=\"maxO3_ajust_s\", data=ozone)\n",
    "ax.set(xlabel='MaxO3', ylabel='MaxO3 ajusté')\n",
    "plt.plot(X_plot, X_plot, color='r')\n",
    "plt.show()"
   ]
  },
  {
   "cell_type": "markdown",
   "metadata": {},
   "source": [
    "La droite qui s'affiche est la première bissectrice. Si le modèle était parfait,\n",
    "les valeurs réelles et les valeurs ajustées seraient égales, donc sur un tel graphique, les points seraient alignés sur la droite d'équation $y=x$, soit la première bissectrice.\n",
    "\n",
    "## Représentez les résidus du modèle\n",
    "\n",
    "On peut obtenir les résidus du modèle à l'aide de cette commande :"
   ]
  },
  {
   "cell_type": "code",
   "execution_count": 17,
   "metadata": {},
   "outputs": [],
   "source": [
    "ozone['residu_s'] = reg_simp.resid"
   ]
  },
  {
   "cell_type": "markdown",
   "metadata": {},
   "source": [
    "À partir de ceux-ci, on peut représenter l'histogramme de ces résidus."
   ]
  },
  {
   "cell_type": "code",
   "execution_count": 18,
   "metadata": {},
   "outputs": [
    {
     "data": {
      "image/png": "[encoded data removed]",
      "text/plain": [
       "<Figure size 432x288 with 1 Axes>"
      ]
     },
     "metadata": {},
     "output_type": "display_data"
    }
   ],
   "source": [
    "plt.hist(ozone['residu_s'], density=True)\n",
    "plt.xlabel('Résidus')\n",
    "plt.title('Histogramme des résidus')\n",
    "plt.show()"
   ]
  },
  {
   "cell_type": "markdown",
   "metadata": {},
   "source": [
    "L'allure de l'histogramme est assez classique : centrée et à peu près symétrique.\n",
    "\n",
    "## Prévoyez la concentration d'ozone\n",
    "\n",
    "Prévoyons maintenant la concentration en ozone d'une journée. Sachant que la température prévue de cette journée est de 19 °C, on peut utiliser notre modèle de régression à des fins de prévision !"
   ]
  },
  {
   "cell_type": "code",
   "execution_count": 20,
   "metadata": {},
   "outputs": [
    {
     "name": "stdout",
     "output_type": "stream",
     "text": [
      "76.49\n"
     ]
    }
   ],
   "source": [
    "a_prevoir = pd.DataFrame({'T12':[19]})\n",
    "maxO3_prev = reg_simp.predict(a_prevoir)\n",
    "print(round(maxO3_prev[0], 2))"
   ]
  },
  {
   "cell_type": "markdown",
   "metadata": {},
   "source": [
    "On obtient une concentration d'ozone d'environ 76.5.\n",
    "\n",
    "*Jusqu'à maintenant, la régression linéaire ne fait intervenir qu'une seule variable explicative. Plus tard (en partie 3), nous verrons des régressions linéaires plus complexes, avec plus de variables explicatives, comme les autres températures, les vitesses de vent, etc.*"
   ]
  },
  {
   "cell_type": "code",
   "execution_count": null,
   "metadata": {},
   "outputs": [],
   "source": []
  }
 ],
 "metadata": {
  "kernelspec": {
   "display_name": "Python 3",
   "language": "python",
   "name": "python3"
  },
  "language_info": {
   "codemirror_mode": {
    "name": "ipython",
    "version": 3
   },
   "file_extension": ".py",
   "mimetype": "text/x-python",
   "name": "python",
   "nbconvert_exporter": "python",
   "pygments_lexer": "ipython3",
   "version": "3.8.5"
  },
  "toc": {
   "base_numbering": 1,
   "nav_menu": {},
   "number_sections": true,
   "sideBar": true,
   "skip_h1_title": false,
   "title_cell": "Table of Contents",
   "title_sidebar": "Contents",
   "toc_cell": false,
   "toc_position": {},
   "toc_section_display": true,
   "toc_window_display": false
  }
 },
 "nbformat": 4,
 "nbformat_minor": 2
}
