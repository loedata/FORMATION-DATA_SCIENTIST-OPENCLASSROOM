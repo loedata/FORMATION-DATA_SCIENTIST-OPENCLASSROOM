{
 "cells": [
  {
   "cell_type": "markdown",
   "metadata": {},
   "source": [
    "# <font color=\"#8333ff\">TP : Pratiquez l'analyse de la variance sur le jeu de données du blé</font>\n",
    "\n",
    "Vous allez mener une ANOVA sur notre cas d'étude, en regardant précisément :\n",
    "- une ANOVA à 1 facteur : la variété de blé ;\n",
    "- une ANOVA à 1 facteur : le pesticide utilisé ;\n",
    "- une ANOVA à 2 facteurs : la variété de blé ET le pesticide utilisé.\n",
    "\n",
    "Dans tous les cas, nous cherchons à **comprendre si les facteurs ont une influence sur le rendement de blé.**\n",
    "\n",
    "## Importez les données\n",
    "\n",
    "On charge tout d'abord les librairies nécessaires pour réaliser ce TP :"
   ]
  },
  {
   "cell_type": "code",
   "execution_count": 1,
   "metadata": {},
   "outputs": [],
   "source": [
    "import pandas as pd\n",
    "import numpy as np\n",
    "import seaborn as sns\n",
    "import matplotlib.pyplot as plt\n",
    "import statsmodels.formula.api as smf\n",
    "import statsmodels.api as sm"
   ]
  },
  {
   "cell_type": "markdown",
   "metadata": {},
   "source": [
    "Le fichier \"ble.txt\" contient les rendements de blé pour 80 parcelles en fonction de la variété de blé (V1, V2, V3 ou V4)."
   ]
  },
  {
   "cell_type": "code",
   "execution_count": 2,
   "metadata": {},
   "outputs": [
    {
     "data": {
      "text/html": [
       "<div>\n",
       "<style scoped>\n",
       "    .dataframe tbody tr th:only-of-type {\n",
       "        vertical-align: middle;\n",
       "    }\n",
       "\n",
       "    .dataframe tbody tr th {\n",
       "        vertical-align: top;\n",
       "    }\n",
       "\n",
       "    .dataframe thead th {\n",
       "        text-align: right;\n",
       "    }\n",
       "</style>\n",
       "<table border=\"1\" class=\"dataframe\">\n",
       "  <thead>\n",
       "    <tr style=\"text-align: right;\">\n",
       "      <th></th>\n",
       "      <th>parcelle</th>\n",
       "      <th>variete</th>\n",
       "      <th>phyto</th>\n",
       "      <th>rdt</th>\n",
       "    </tr>\n",
       "  </thead>\n",
       "  <tbody>\n",
       "    <tr>\n",
       "      <th>0</th>\n",
       "      <td>1</td>\n",
       "      <td>V1</td>\n",
       "      <td>Avec</td>\n",
       "      <td>5652</td>\n",
       "    </tr>\n",
       "    <tr>\n",
       "      <th>1</th>\n",
       "      <td>2</td>\n",
       "      <td>V1</td>\n",
       "      <td>Avec</td>\n",
       "      <td>5583</td>\n",
       "    </tr>\n",
       "    <tr>\n",
       "      <th>2</th>\n",
       "      <td>3</td>\n",
       "      <td>V1</td>\n",
       "      <td>Avec</td>\n",
       "      <td>5612</td>\n",
       "    </tr>\n",
       "    <tr>\n",
       "      <th>3</th>\n",
       "      <td>4</td>\n",
       "      <td>V1</td>\n",
       "      <td>Avec</td>\n",
       "      <td>5735</td>\n",
       "    </tr>\n",
       "    <tr>\n",
       "      <th>4</th>\n",
       "      <td>5</td>\n",
       "      <td>V1</td>\n",
       "      <td>Avec</td>\n",
       "      <td>5704</td>\n",
       "    </tr>\n",
       "  </tbody>\n",
       "</table>\n",
       "</div>"
      ],
      "text/plain": [
       "   parcelle variete phyto   rdt\n",
       "0         1      V1  Avec  5652\n",
       "1         2      V1  Avec  5583\n",
       "2         3      V1  Avec  5612\n",
       "3         4      V1  Avec  5735\n",
       "4         5      V1  Avec  5704"
      ]
     },
     "execution_count": 2,
     "metadata": {},
     "output_type": "execute_result"
    }
   ],
   "source": [
    "ble = pd.read_csv('ble.txt', sep=\";\", decimal='.')\n",
    "ble.head()"
   ]
  },
  {
   "cell_type": "markdown",
   "metadata": {},
   "source": [
    "## Réalisez une ANOVA à 1 facteur\n",
    "\n",
    "On veut étudier ici l'influence de la variété de blé sur le rendement.\n",
    "\n",
    "On peut visualiser l'influence de la variété en affichant ces boîtes à moustaches :"
   ]
  },
  {
   "cell_type": "code",
   "execution_count": 3,
   "metadata": {},
   "outputs": [
    {
     "data": {
      "image/png": "[encoded data removed]",
      "text/plain": [
       "<Figure size 432x288 with 1 Axes>"
      ]
     },
     "metadata": {},
     "output_type": "display_data"
    }
   ],
   "source": [
    "sns.set()\n",
    "\n",
    "ax = sns.boxplot(x=\"variete\", y=\"rdt\", data=ble, color='white')\n",
    "plt.xlabel('Variété de blé')\n",
    "plt.ylabel('Rendement')\n",
    "plt.title('Boîtes à moustaches')\n",
    "plt.show()"
   ]
  },
  {
   "cell_type": "markdown",
   "metadata": {},
   "source": [
    "Les 4 variétés semblent assez différentes, même si l'ordre de grandeur de ces écarts n'est pas très grand. La question sera de savoir si ces écarts sont significatifs ou pas.\n",
    "\n",
    "*C'est l'ANOVA qui nous permettra de répondre à cette question.*\n",
    "\n",
    "Étudions maintenant l'influence de la présence ou non de pesticide sur le rendement :"
   ]
  },
  {
   "cell_type": "code",
   "execution_count": 4,
   "metadata": {},
   "outputs": [
    {
     "data": {
      "image/png": "[encoded data removed]",
      "text/plain": [
       "<Figure size 432x288 with 1 Axes>"
      ]
     },
     "metadata": {},
     "output_type": "display_data"
    }
   ],
   "source": [
    "ax = sns.boxplot(x=\"phyto\", y=\"rdt\", data=ble, color='white')\n",
    "plt.xlabel('Traitement phytosanitaire')\n",
    "plt.ylabel('Rendement')\n",
    "plt.title('Boîtes à moustaches')\n",
    "plt.show()"
   ]
  },
  {
   "cell_type": "markdown",
   "metadata": {},
   "source": [
    "Ici, les boîtes à moustaches ne sont pas très distinctes, même s'il y a un peu plus de variance dans le cas \"SANS pesticide\".\n",
    "\n",
    "*La présence de pesticide a-t-elle un impact sur le rendement ? L'ANOVA nous permet de confirmer ou d'infirmer cette intuition.*\n",
    "\n",
    "Lançons l'ANOVA pour tester l'influence de la variété de blé :"
   ]
  },
  {
   "cell_type": "code",
   "execution_count": 5,
   "metadata": {},
   "outputs": [
    {
     "name": "stdout",
     "output_type": "stream",
     "text": [
      "                            OLS Regression Results                            \n",
      "==============================================================================\n",
      "Dep. Variable:                    rdt   R-squared:                       0.448\n",
      "Model:                            OLS   Adj. R-squared:                  0.426\n",
      "Method:                 Least Squares   F-statistic:                     20.53\n",
      "Date:                Fri, 30 Oct 2020   Prob (F-statistic):           7.67e-10\n",
      "Time:                        18:52:18   Log-Likelihood:                -492.86\n",
      "No. Observations:                  80   AIC:                             993.7\n",
      "Df Residuals:                      76   BIC:                             1003.\n",
      "Df Model:                           3                                         \n",
      "Covariance Type:            nonrobust                                         \n",
      "=================================================================================\n",
      "                    coef    std err          t      P>|t|      [0.025      0.975]\n",
      "---------------------------------------------------------------------------------\n",
      "Intercept      5633.8000     26.300    214.211      0.000    5581.419    5686.181\n",
      "variete[T.V2]   -49.7000     37.194     -1.336      0.185    -123.779      24.379\n",
      "variete[T.V3]  -169.2000     37.194     -4.549      0.000    -243.279     -95.121\n",
      "variete[T.V4]   118.4000     37.194      3.183      0.002      44.321     192.479\n",
      "==============================================================================\n",
      "Omnibus:                        2.869   Durbin-Watson:                   2.355\n",
      "Prob(Omnibus):                  0.238   Jarque-Bera (JB):                2.611\n",
      "Skew:                          -0.085   Prob(JB):                        0.271\n",
      "Kurtosis:                       3.868   Cond. No.                         4.79\n",
      "==============================================================================\n",
      "\n",
      "Notes:\n",
      "[1] Standard Errors assume that the covariance matrix of the errors is correctly specified.\n"
     ]
    }
   ],
   "source": [
    "anova_variete = smf.ols('rdt~variete', data=ble).fit()\n",
    "print(anova_variete.summary())"
   ]
  },
  {
   "cell_type": "markdown",
   "metadata": {},
   "source": [
    "On y voit les paramètres estimés (dans la colonne \"Estimate\"), mais ici, ce ne sont pas les paramètres qui nous intéressent le plus.\n",
    "\n",
    "## Réalisez un test de Fisher\n",
    "\n",
    "Ce qui nous intéresse réellement, c'est le **test de Fisher**.\n",
    "La p-valeur de ce test ($7.67∗10^{-7}$) est très petite et largement inférieure à 5 %. On rejette donc l'hypothèse H0 selon laquelle $α_{1}=α_{2}=α_{3}=α_{4}=0$.\n",
    "\n",
    "*La variété de blé a donc bien un effet sur le rendement, comme nous en avions l'intuition en regardant les boîtes à moustaches.*\n",
    "\n",
    "Pour obtenir le tableau de l'analyse de la variance, on utilise la commande anova_lm :"
   ]
  },
  {
   "cell_type": "code",
   "execution_count": 6,
   "metadata": {},
   "outputs": [
    {
     "data": {
      "text/html": [
       "<div>\n",
       "<style scoped>\n",
       "    .dataframe tbody tr th:only-of-type {\n",
       "        vertical-align: middle;\n",
       "    }\n",
       "\n",
       "    .dataframe tbody tr th {\n",
       "        vertical-align: top;\n",
       "    }\n",
       "\n",
       "    .dataframe thead th {\n",
       "        text-align: right;\n",
       "    }\n",
       "</style>\n",
       "<table border=\"1\" class=\"dataframe\">\n",
       "  <thead>\n",
       "    <tr style=\"text-align: right;\">\n",
       "      <th></th>\n",
       "      <th>sum_sq</th>\n",
       "      <th>df</th>\n",
       "      <th>F</th>\n",
       "      <th>PR(&gt;F)</th>\n",
       "    </tr>\n",
       "  </thead>\n",
       "  <tbody>\n",
       "    <tr>\n",
       "      <th>variete</th>\n",
       "      <td>851844.55</td>\n",
       "      <td>3.0</td>\n",
       "      <td>20.525327</td>\n",
       "      <td>7.674413e-10</td>\n",
       "    </tr>\n",
       "    <tr>\n",
       "      <th>Residual</th>\n",
       "      <td>1051387.00</td>\n",
       "      <td>76.0</td>\n",
       "      <td>NaN</td>\n",
       "      <td>NaN</td>\n",
       "    </tr>\n",
       "  </tbody>\n",
       "</table>\n",
       "</div>"
      ],
      "text/plain": [
       "              sum_sq    df          F        PR(>F)\n",
       "variete    851844.55   3.0  20.525327  7.674413e-10\n",
       "Residual  1051387.00  76.0        NaN           NaN"
      ]
     },
     "execution_count": 6,
     "metadata": {},
     "output_type": "execute_result"
    }
   ],
   "source": [
    "sm.stats.anova_lm(anova_variete, typ=2)"
   ]
  },
  {
   "cell_type": "markdown",
   "metadata": {},
   "source": [
    "Réalisons maintenant l'Analyse de la Variance sur le pesticide utilisé :"
   ]
  },
  {
   "cell_type": "code",
   "execution_count": 7,
   "metadata": {},
   "outputs": [
    {
     "name": "stdout",
     "output_type": "stream",
     "text": [
      "                            OLS Regression Results                            \n",
      "==============================================================================\n",
      "Dep. Variable:                    rdt   R-squared:                       0.001\n",
      "Model:                            OLS   Adj. R-squared:                 -0.012\n",
      "Method:                 Least Squares   F-statistic:                   0.04134\n",
      "Date:                Fri, 30 Oct 2020   Prob (F-statistic):              0.839\n",
      "Time:                        18:52:56   Log-Likelihood:                -516.58\n",
      "No. Observations:                  80   AIC:                             1037.\n",
      "Df Residuals:                      78   BIC:                             1042.\n",
      "Df Model:                           1                                         \n",
      "Covariance Type:            nonrobust                                         \n",
      "=================================================================================\n",
      "                    coef    std err          t      P>|t|      [0.025      0.975]\n",
      "---------------------------------------------------------------------------------\n",
      "Intercept      5612.2250     24.692    227.291      0.000    5563.067    5661.383\n",
      "phyto[T.Sans]    -7.1000     34.920     -0.203      0.839     -76.619      62.419\n",
      "==============================================================================\n",
      "Omnibus:                        3.177   Durbin-Watson:                   1.446\n",
      "Prob(Omnibus):                  0.204   Jarque-Bera (JB):                1.881\n",
      "Skew:                           0.101   Prob(JB):                        0.390\n",
      "Kurtosis:                       2.276   Cond. No.                         2.62\n",
      "==============================================================================\n",
      "\n",
      "Notes:\n",
      "[1] Standard Errors assume that the covariance matrix of the errors is correctly specified.\n"
     ]
    },
    {
     "data": {
      "text/html": [
       "<div>\n",
       "<style scoped>\n",
       "    .dataframe tbody tr th:only-of-type {\n",
       "        vertical-align: middle;\n",
       "    }\n",
       "\n",
       "    .dataframe tbody tr th {\n",
       "        vertical-align: top;\n",
       "    }\n",
       "\n",
       "    .dataframe thead th {\n",
       "        text-align: right;\n",
       "    }\n",
       "</style>\n",
       "<table border=\"1\" class=\"dataframe\">\n",
       "  <thead>\n",
       "    <tr style=\"text-align: right;\">\n",
       "      <th></th>\n",
       "      <th>sum_sq</th>\n",
       "      <th>df</th>\n",
       "      <th>F</th>\n",
       "      <th>PR(&gt;F)</th>\n",
       "    </tr>\n",
       "  </thead>\n",
       "  <tbody>\n",
       "    <tr>\n",
       "      <th>phyto</th>\n",
       "      <td>1008.20</td>\n",
       "      <td>1.0</td>\n",
       "      <td>0.041341</td>\n",
       "      <td>0.839411</td>\n",
       "    </tr>\n",
       "    <tr>\n",
       "      <th>Residual</th>\n",
       "      <td>1902223.35</td>\n",
       "      <td>78.0</td>\n",
       "      <td>NaN</td>\n",
       "      <td>NaN</td>\n",
       "    </tr>\n",
       "  </tbody>\n",
       "</table>\n",
       "</div>"
      ],
      "text/plain": [
       "              sum_sq    df         F    PR(>F)\n",
       "phyto        1008.20   1.0  0.041341  0.839411\n",
       "Residual  1902223.35  78.0       NaN       NaN"
      ]
     },
     "execution_count": 7,
     "metadata": {},
     "output_type": "execute_result"
    }
   ],
   "source": [
    "anova_phyto = smf.ols('rdt~phyto', data=ble).fit()\n",
    "print(anova_phyto.summary())\n",
    "sm.stats.anova_lm(anova_phyto, typ=2)"
   ]
  },
  {
   "cell_type": "markdown",
   "metadata": {},
   "source": [
    "On trouve ici une p-valeur de 0.8, ce qui est très au-dessus de 5 %.\n",
    "On ne rejette donc pas l'hypothèse H0 selon laquelle $α_{1}=α_{2}=0$.\n",
    "\n",
    "Il n'y a pas ici d'effet du pesticide sur le rendement de blé, tout au moins pas d'effet significatif.\n",
    "\n",
    "## Réalisez une ANOVA à 2 facteurs\n",
    "\n",
    "Jusqu'ici, nous avons étudié les 2 facteurs (variété et pesticide) séparément. Cependant, la variété et le pesticide peuvent avoir des interactions qui influent sur le rendement.\n",
    "\n",
    "En effet, même si l'on a montré que, globalement, le pesticide n'a pas d'effet sur le rendement, il se peut que, pour une variété précise, il y ait quand même un effet du pesticide sur le rendement.\n",
    "L'ANOVA à 2 facteurs va nous permettre d'étudier ces éventuelles interactions :"
   ]
  },
  {
   "cell_type": "code",
   "execution_count": 8,
   "metadata": {},
   "outputs": [
    {
     "name": "stdout",
     "output_type": "stream",
     "text": [
      "                            OLS Regression Results                            \n",
      "==============================================================================\n",
      "Dep. Variable:                    rdt   R-squared:                       0.451\n",
      "Model:                            OLS   Adj. R-squared:                  0.398\n",
      "Method:                 Least Squares   F-statistic:                     8.458\n",
      "Date:                Tue, 12 Mar 2019   Prob (F-statistic):           1.62e-07\n",
      "Time:                        14:02:58   Log-Likelihood:                -492.59\n",
      "No. Observations:                  80   AIC:                             1001.\n",
      "Df Residuals:                      72   BIC:                             1020.\n",
      "Df Model:                           7                                         \n",
      "Covariance Type:            nonrobust                                         \n",
      "===============================================================================================\n",
      "                                  coef    std err          t      P>|t|      [0.025      0.975]\n",
      "-----------------------------------------------------------------------------------------------\n",
      "Intercept                    5628.1000     38.086    147.772      0.000    5552.176    5704.024\n",
      "variete[T.V2]                 -34.4000     53.862     -0.639      0.525    -141.772      72.972\n",
      "variete[T.V3]                -167.6000     53.862     -3.112      0.003    -274.972     -60.228\n",
      "variete[T.V4]                 138.5000     53.862      2.571      0.012      31.128     245.872\n",
      "phyto[T.Sans]                  11.4000     53.862      0.212      0.833     -95.972     118.772\n",
      "variete[T.V2]:phyto[T.Sans]   -30.6000     76.173     -0.402      0.689    -182.448     121.248\n",
      "variete[T.V3]:phyto[T.Sans]    -3.2000     76.173     -0.042      0.967    -155.048     148.648\n",
      "variete[T.V4]:phyto[T.Sans]   -40.2000     76.173     -0.528      0.599    -192.048     111.648\n",
      "==============================================================================\n",
      "Omnibus:                        2.691   Durbin-Watson:                   2.399\n",
      "Prob(Omnibus):                  0.260   Jarque-Bera (JB):                2.415\n",
      "Skew:                           0.008   Prob(JB):                        0.299\n",
      "Kurtosis:                       3.851   Cond. No.                         12.5\n",
      "==============================================================================\n",
      "\n",
      "Warnings:\n",
      "[1] Standard Errors assume that the covariance matrix of the errors is correctly specified.\n"
     ]
    },
    {
     "data": {
      "text/html": [
       "<div>\n",
       "<style scoped>\n",
       "    .dataframe tbody tr th:only-of-type {\n",
       "        vertical-align: middle;\n",
       "    }\n",
       "\n",
       "    .dataframe tbody tr th {\n",
       "        vertical-align: top;\n",
       "    }\n",
       "\n",
       "    .dataframe thead th {\n",
       "        text-align: right;\n",
       "    }\n",
       "</style>\n",
       "<table border=\"1\" class=\"dataframe\">\n",
       "  <thead>\n",
       "    <tr style=\"text-align: right;\">\n",
       "      <th></th>\n",
       "      <th>df</th>\n",
       "      <th>sum_sq</th>\n",
       "      <th>mean_sq</th>\n",
       "      <th>F</th>\n",
       "      <th>PR(&gt;F)</th>\n",
       "    </tr>\n",
       "  </thead>\n",
       "  <tbody>\n",
       "    <tr>\n",
       "      <th>variete</th>\n",
       "      <td>3.0</td>\n",
       "      <td>851844.55</td>\n",
       "      <td>283948.183333</td>\n",
       "      <td>19.574935</td>\n",
       "      <td>2.205108e-09</td>\n",
       "    </tr>\n",
       "    <tr>\n",
       "      <th>phyto</th>\n",
       "      <td>1.0</td>\n",
       "      <td>1008.20</td>\n",
       "      <td>1008.200000</td>\n",
       "      <td>0.069504</td>\n",
       "      <td>7.928138e-01</td>\n",
       "    </tr>\n",
       "    <tr>\n",
       "      <th>variete:phyto</th>\n",
       "      <td>3.0</td>\n",
       "      <td>5968.20</td>\n",
       "      <td>1989.400000</td>\n",
       "      <td>0.137146</td>\n",
       "      <td>9.375236e-01</td>\n",
       "    </tr>\n",
       "    <tr>\n",
       "      <th>Residual</th>\n",
       "      <td>72.0</td>\n",
       "      <td>1044410.60</td>\n",
       "      <td>14505.702778</td>\n",
       "      <td>NaN</td>\n",
       "      <td>NaN</td>\n",
       "    </tr>\n",
       "  </tbody>\n",
       "</table>\n",
       "</div>"
      ],
      "text/plain": [
       "                 df      sum_sq        mean_sq          F        PR(>F)\n",
       "variete         3.0   851844.55  283948.183333  19.574935  2.205108e-09\n",
       "phyto           1.0     1008.20    1008.200000   0.069504  7.928138e-01\n",
       "variete:phyto   3.0     5968.20    1989.400000   0.137146  9.375236e-01\n",
       "Residual       72.0  1044410.60   14505.702778        NaN           NaN"
      ]
     },
     "execution_count": 8,
     "metadata": {},
     "output_type": "execute_result"
    }
   ],
   "source": [
    "anova_variete_phyto = smf.ols('rdt~variete*phyto', data=ble).fit()\n",
    "print(anova_variete_phyto.summary())\n",
    "sm.stats.anova_lm(anova_variete_phyto)"
   ]
  },
  {
   "cell_type": "markdown",
   "metadata": {},
   "source": [
    "On voit sur le tableau 3 lignes :\n",
    "- variete  : qui teste l'effet de la variété ;\n",
    "- phyto  : qui teste l'effet du pesticide ;\n",
    "- variete:phyto  : qui teste les interactions pesticide-variété.\n",
    "\n",
    "La p-valeur des interactions (93,75 %) est très largement supérieure à 5 % ; on en déduit donc que les interactions n'ont pas d'impact sur le rendement.\n",
    "\n",
    "*En pratique, on part toujours du tableau de l'ANOVA à 2 facteurs pour tester les interactions. Si elles sont significatives, on les conserve. Sinon, on teste séparément les 2 facteurs séparément par des ANOVA à 1 facteur.*"
   ]
  },
  {
   "cell_type": "code",
   "execution_count": null,
   "metadata": {},
   "outputs": [],
   "source": []
  }
 ],
 "metadata": {
  "kernelspec": {
   "display_name": "Python 3",
   "language": "python",
   "name": "python3"
  },
  "language_info": {
   "codemirror_mode": {
    "name": "ipython",
    "version": 3
   },
   "file_extension": ".py",
   "mimetype": "text/x-python",
   "name": "python",
   "nbconvert_exporter": "python",
   "pygments_lexer": "ipython3",
   "version": "3.8.5"
  },
  "toc": {
   "base_numbering": 1,
   "nav_menu": {},
   "number_sections": true,
   "sideBar": true,
   "skip_h1_title": false,
   "title_cell": "Table of Contents",
   "title_sidebar": "Contents",
   "toc_cell": false,
   "toc_position": {},
   "toc_section_display": true,
   "toc_window_display": false
  }
 },
 "nbformat": 4,
 "nbformat_minor": 2
}
