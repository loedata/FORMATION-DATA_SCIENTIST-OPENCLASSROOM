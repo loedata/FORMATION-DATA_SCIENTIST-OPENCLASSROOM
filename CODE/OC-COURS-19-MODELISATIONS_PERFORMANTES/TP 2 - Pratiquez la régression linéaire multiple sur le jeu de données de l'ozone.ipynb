{
 "cells": [
  {
   "cell_type": "markdown",
   "metadata": {},
   "source": [
    "# <font color=\"#8333ff\">TP : Pratiquez la régression linéaire multiple sur le jeu de données de l'ozone</font>"
   ]
  },
  {
   "cell_type": "markdown",
   "metadata": {},
   "source": [
    "Appliquons la régression linéaire multiple à l'échantillon ozone.\n",
    "Modélisons le pic d'ozone journalier en fonction de toutes les autres variables météorologiques.\n",
    "\n",
    "## Importez les données\n",
    "\n",
    "On importe les librairies qui nous permettront de mener à bien ce TP :"
   ]
  },
  {
   "cell_type": "code",
   "execution_count": 1,
   "metadata": {},
   "outputs": [],
   "source": [
    "import pandas as pd\n",
    "import numpy as np\n",
    "import seaborn as sns\n",
    "import matplotlib.pyplot as plt\n",
    "import statsmodels.api as sm\n",
    "import statsmodels.formula.api as smf\n",
    "from scipy.stats import t, shapiro\n",
    "from statsmodels.stats.outliers_influence import variance_inflation_factor\n",
    "import statsmodels\n",
    "from functions import *"
   ]
  },
  {
   "cell_type": "markdown",
   "metadata": {},
   "source": [
    "On importe les données, puis on utilise la commande  lm  pour régresser maxO3 en fonction des autres variables de l'échantillon."
   ]
  },
  {
   "cell_type": "code",
   "execution_count": 2,
   "metadata": {},
   "outputs": [
    {
     "name": "stdout",
     "output_type": "stream",
     "text": [
      "                            OLS Regression Results                            \n",
      "==============================================================================\n",
      "Dep. Variable:                  maxO3   R-squared:                       0.755\n",
      "Model:                            OLS   Adj. R-squared:                  0.738\n",
      "Method:                 Least Squares   F-statistic:                     45.68\n",
      "Date:                Fri, 30 Oct 2020   Prob (F-statistic):           6.06e-29\n",
      "Time:                        16:38:31   Log-Likelihood:                -453.71\n",
      "No. Observations:                 112   AIC:                             923.4\n",
      "Df Residuals:                     104   BIC:                             945.2\n",
      "Df Model:                           7                                         \n",
      "Covariance Type:            nonrobust                                         \n",
      "==============================================================================\n",
      "                 coef    std err          t      P>|t|      [0.025      0.975]\n",
      "------------------------------------------------------------------------------\n",
      "Intercept     12.7055     13.109      0.969      0.335     -13.289      38.700\n",
      "T9            -0.6360      1.035     -0.615      0.540      -2.688       1.416\n",
      "T12            2.5060      1.399      1.791      0.076      -0.269       5.281\n",
      "T15            0.7138      1.137      0.628      0.531      -1.540       2.968\n",
      "Ne9           -2.7606      0.892     -3.096      0.003      -4.529      -0.993\n",
      "Ne12          -0.3719      1.346     -0.276      0.783      -3.041       2.297\n",
      "Ne15           0.0903      0.999      0.090      0.928      -1.891       2.072\n",
      "maxO3v         0.3777      0.061      6.171      0.000       0.256       0.499\n",
      "==============================================================================\n",
      "Omnibus:                       10.038   Durbin-Watson:                   1.895\n",
      "Prob(Omnibus):                  0.007   Jarque-Bera (JB):               23.403\n",
      "Skew:                          -0.139   Prob(JB):                     8.28e-06\n",
      "Kurtosis:                       5.222   Cond. No.                         979.\n",
      "==============================================================================\n",
      "\n",
      "Notes:\n",
      "[1] Standard Errors assume that the covariance matrix of the errors is correctly specified.\n"
     ]
    }
   ],
   "source": [
    "ozone = pd.read_csv('ozone.txt', sep=\";\", decimal=',')\n",
    "\n",
    "reg_multi = smf.ols('maxO3~T9+T12+T15+Ne9+Ne12+Ne15+maxO3v', data=ozone).fit()\n",
    "print(reg_multi.summary())"
   ]
  },
  {
   "cell_type": "markdown",
   "metadata": {},
   "source": [
    "On constate ici que certains paramètres ne sont pas significativement différents de 0, car leur p-valeur n'est pas inférieure à 5 %, le niveau de test que nous souhaitons.\n",
    "\n",
    "Le $R^{2}$ vaut environ 0.75, et le $R^{2}$ ajusté est d'environ 0.74.\n",
    "\n",
    "*Cette valeur est plus élevée qu'en régression linéaire simple, et c'est logique, car lorsque l'on rajoute des variables explicatives potentielles, on accroît naturellement la valeur de ces $R^{2}$.*\n",
    "\n",
    "## Retirez les variables non significatives\n",
    "\n",
    "On va donc maintenant retirer les variables non significatives. On commence par la moins significative : Ne15, car elle a une p-valeur (p>|t[)  de 0.93."
   ]
  },
  {
   "cell_type": "code",
   "execution_count": 3,
   "metadata": {},
   "outputs": [
    {
     "name": "stdout",
     "output_type": "stream",
     "text": [
      "                            OLS Regression Results                            \n",
      "==============================================================================\n",
      "Dep. Variable:                  maxO3   R-squared:                       0.755\n",
      "Model:                            OLS   Adj. R-squared:                  0.741\n",
      "Method:                 Least Squares   F-statistic:                     53.80\n",
      "Date:                Tue, 12 Mar 2019   Prob (F-statistic):           7.91e-30\n",
      "Time:                        14:02:23   Log-Likelihood:                -453.71\n",
      "No. Observations:                 112   AIC:                             921.4\n",
      "Df Residuals:                     105   BIC:                             940.5\n",
      "Df Model:                           6                                         \n",
      "Covariance Type:            nonrobust                                         \n",
      "==============================================================================\n",
      "                 coef    std err          t      P>|t|      [0.025      0.975]\n",
      "------------------------------------------------------------------------------\n",
      "Intercept     12.8492     12.950      0.992      0.323     -12.829      38.527\n",
      "T9            -0.6298      1.027     -0.613      0.541      -2.667       1.407\n",
      "T12            2.5602      1.258      2.034      0.044       0.065       5.055\n",
      "T15            0.6579      0.949      0.693      0.490      -1.223       2.539\n",
      "Ne9           -2.7653      0.886     -3.122      0.002      -4.522      -1.009\n",
      "Ne12          -0.3080      1.139     -0.270      0.787      -2.567       1.951\n",
      "maxO3v         0.3775      0.061      6.202      0.000       0.257       0.498\n",
      "==============================================================================\n",
      "Omnibus:                        9.980   Durbin-Watson:                   1.894\n",
      "Prob(Omnibus):                  0.007   Jarque-Bera (JB):               23.200\n",
      "Skew:                          -0.136   Prob(JB):                     9.17e-06\n",
      "Kurtosis:                       5.213   Cond. No.                         971.\n",
      "==============================================================================\n",
      "\n",
      "Warnings:\n",
      "[1] Standard Errors assume that the covariance matrix of the errors is correctly specified.\n"
     ]
    }
   ],
   "source": [
    "reg_multi = smf.ols('maxO3~T9+T12+T15+Ne9+Ne12+maxO3v', data=ozone).fit()\n",
    "print(reg_multi.summary())"
   ]
  },
  {
   "cell_type": "markdown",
   "metadata": {},
   "source": [
    "On voit alors que c'est maintenant Ne12, avec une p-valeur de 0.79, qui est la moins significative. On l'enlève donc."
   ]
  },
  {
   "cell_type": "code",
   "execution_count": 4,
   "metadata": {},
   "outputs": [
    {
     "name": "stdout",
     "output_type": "stream",
     "text": [
      "                            OLS Regression Results                            \n",
      "==============================================================================\n",
      "Dep. Variable:                  maxO3   R-squared:                       0.754\n",
      "Model:                            OLS   Adj. R-squared:                  0.743\n",
      "Method:                 Least Squares   F-statistic:                     65.11\n",
      "Date:                Fri, 30 Oct 2020   Prob (F-statistic):           9.62e-31\n",
      "Time:                        16:40:27   Log-Likelihood:                -453.75\n",
      "No. Observations:                 112   AIC:                             919.5\n",
      "Df Residuals:                     106   BIC:                             935.8\n",
      "Df Model:                           5                                         \n",
      "Covariance Type:            nonrobust                                         \n",
      "==============================================================================\n",
      "                 coef    std err          t      P>|t|      [0.025      0.975]\n",
      "------------------------------------------------------------------------------\n",
      "Intercept     11.2844     11.534      0.978      0.330     -11.583      34.152\n",
      "T9            -0.7313      0.952     -0.768      0.444      -2.619       1.157\n",
      "T12            2.6649      1.192      2.235      0.027       0.301       5.028\n",
      "T15            0.6682      0.944      0.708      0.481      -1.203       2.539\n",
      "Ne9           -2.9258      0.655     -4.470      0.000      -4.223      -1.628\n",
      "maxO3v         0.3796      0.060      6.314      0.000       0.260       0.499\n",
      "==============================================================================\n",
      "Omnibus:                        9.521   Durbin-Watson:                   1.896\n",
      "Prob(Omnibus):                  0.009   Jarque-Bera (JB):               21.507\n",
      "Skew:                          -0.116   Prob(JB):                     2.14e-05\n",
      "Kurtosis:                       5.134   Cond. No.                         868.\n",
      "==============================================================================\n",
      "\n",
      "Notes:\n",
      "[1] Standard Errors assume that the covariance matrix of the errors is correctly specified.\n"
     ]
    }
   ],
   "source": [
    "reg_multi = smf.ols('maxO3~T9+T12+T15+Ne9+maxO3v', data=ozone).fit()\n",
    "print(reg_multi.summary())"
   ]
  },
  {
   "cell_type": "markdown",
   "metadata": {},
   "source": [
    "On constate qu'il faut maintenant retirer la variable T9 :  "
   ]
  },
  {
   "cell_type": "code",
   "execution_count": 5,
   "metadata": {},
   "outputs": [
    {
     "name": "stdout",
     "output_type": "stream",
     "text": [
      "                            OLS Regression Results                            \n",
      "==============================================================================\n",
      "Dep. Variable:                  maxO3   R-squared:                       0.753\n",
      "Model:                            OLS   Adj. R-squared:                  0.744\n",
      "Method:                 Least Squares   F-statistic:                     81.55\n",
      "Date:                Fri, 30 Oct 2020   Prob (F-statistic):           1.33e-31\n",
      "Time:                        16:41:04   Log-Likelihood:                -454.06\n",
      "No. Observations:                 112   AIC:                             918.1\n",
      "Df Residuals:                     107   BIC:                             931.7\n",
      "Df Model:                           4                                         \n",
      "Covariance Type:            nonrobust                                         \n",
      "==============================================================================\n",
      "                 coef    std err          t      P>|t|      [0.025      0.975]\n",
      "------------------------------------------------------------------------------\n",
      "Intercept      9.1368     11.168      0.818      0.415     -13.003      31.277\n",
      "T12            2.2318      1.048      2.129      0.036       0.154       4.310\n",
      "T15            0.6277      0.941      0.667      0.506      -1.237       2.492\n",
      "Ne9           -2.9639      0.651     -4.550      0.000      -4.255      -1.673\n",
      "maxO3v         0.3702      0.059      6.301      0.000       0.254       0.487\n",
      "==============================================================================\n",
      "Omnibus:                        8.655   Durbin-Watson:                   1.844\n",
      "Prob(Omnibus):                  0.013   Jarque-Bera (JB):               18.693\n",
      "Skew:                          -0.035   Prob(JB):                     8.73e-05\n",
      "Kurtosis:                       5.000   Cond. No.                         828.\n",
      "==============================================================================\n",
      "\n",
      "Notes:\n",
      "[1] Standard Errors assume that the covariance matrix of the errors is correctly specified.\n"
     ]
    }
   ],
   "source": [
    "reg_multi = smf.ols('maxO3~T12+T15+Ne9+maxO3v', data=ozone).fit()\n",
    "print(reg_multi.summary())"
   ]
  },
  {
   "cell_type": "markdown",
   "metadata": {},
   "source": [
    "Et l'on retire ensuite T15 :"
   ]
  },
  {
   "cell_type": "code",
   "execution_count": 6,
   "metadata": {},
   "outputs": [
    {
     "name": "stdout",
     "output_type": "stream",
     "text": [
      "                            OLS Regression Results                            \n",
      "==============================================================================\n",
      "Dep. Variable:                  maxO3   R-squared:                       0.752\n",
      "Model:                            OLS   Adj. R-squared:                  0.745\n",
      "Method:                 Least Squares   F-statistic:                     109.1\n",
      "Date:                Fri, 30 Oct 2020   Prob (F-statistic):           1.46e-32\n",
      "Time:                        16:41:13   Log-Likelihood:                -454.30\n",
      "No. Observations:                 112   AIC:                             916.6\n",
      "Df Residuals:                     108   BIC:                             927.5\n",
      "Df Model:                           3                                         \n",
      "Covariance Type:            nonrobust                                         \n",
      "==============================================================================\n",
      "                 coef    std err          t      P>|t|      [0.025      0.975]\n",
      "------------------------------------------------------------------------------\n",
      "Intercept      9.7622     11.100      0.879      0.381     -12.241      31.765\n",
      "T12            2.8531      0.481      5.937      0.000       1.901       3.806\n",
      "Ne9           -3.0242      0.643     -4.700      0.000      -4.300      -1.749\n",
      "maxO3v         0.3757      0.058      6.477      0.000       0.261       0.491\n",
      "==============================================================================\n",
      "Omnibus:                        9.766   Durbin-Watson:                   1.884\n",
      "Prob(Omnibus):                  0.008   Jarque-Bera (JB):               23.605\n",
      "Skew:                           0.020   Prob(JB):                     7.48e-06\n",
      "Kurtosis:                       5.249   Cond. No.                         805.\n",
      "==============================================================================\n",
      "\n",
      "Notes:\n",
      "[1] Standard Errors assume that the covariance matrix of the errors is correctly specified.\n"
     ]
    }
   ],
   "source": [
    "reg_multi = smf.ols('maxO3~T12+Ne9+maxO3v', data=ozone).fit()\n",
    "print(reg_multi.summary())"
   ]
  },
  {
   "cell_type": "markdown",
   "metadata": {},
   "source": [
    "On remarque qu'à présent, tous les paramètres sont significatifs. Quant au $R^{2}$, il vaut environ 0.75, tout comme le $R^{2}$ ajusté.\n",
    "\n",
    "*On peut donc utiliser ce modèle à des fins de prévision !*\n",
    "\n",
    "Si l'on souhaite prévoir la concentration journalière en ozone, sachant que la température prévue à 12 h sera de 15 °C, que la valeur de Ne9 sera de 2, et que la concentration maxO3v de la veille vaut 100, alors on saisit les lignes suivantes :"
   ]
  },
  {
   "cell_type": "code",
   "execution_count": 7,
   "metadata": {},
   "outputs": [
    {
     "name": "stdout",
     "output_type": "stream",
     "text": [
      "84.08\n"
     ]
    }
   ],
   "source": [
    "a_prevoir = pd.DataFrame({'T12': 15, 'Ne9': 2, 'maxO3v': 100}, index=[0])\n",
    "maxO3_prev = reg_multi.predict(a_prevoir)\n",
    "print(round(maxO3_prev[0], 2))"
   ]
  },
  {
   "cell_type": "markdown",
   "metadata": {},
   "source": [
    "On obtient une concentration maxO3 de 84.\n",
    "\n",
    "## Pour aller plus loin : analysez vos résultats\n",
    "\n",
    "Reprenons la régression linéaire multiple que nous avons obtenue :"
   ]
  },
  {
   "cell_type": "code",
   "execution_count": 11,
   "metadata": {},
   "outputs": [
    {
     "name": "stdout",
     "output_type": "stream",
     "text": [
      "                            OLS Regression Results                            \n",
      "==============================================================================\n",
      "Dep. Variable:                  maxO3   R-squared:                       0.752\n",
      "Model:                            OLS   Adj. R-squared:                  0.745\n",
      "Method:                 Least Squares   F-statistic:                     109.1\n",
      "Date:                Fri, 30 Oct 2020   Prob (F-statistic):           1.46e-32\n",
      "Time:                        16:42:36   Log-Likelihood:                -454.30\n",
      "No. Observations:                 112   AIC:                             916.6\n",
      "Df Residuals:                     108   BIC:                             927.5\n",
      "Df Model:                           3                                         \n",
      "Covariance Type:            nonrobust                                         \n",
      "==============================================================================\n",
      "                 coef    std err          t      P>|t|      [0.025      0.975]\n",
      "------------------------------------------------------------------------------\n",
      "Intercept      9.7622     11.100      0.879      0.381     -12.241      31.765\n",
      "T12            2.8531      0.481      5.937      0.000       1.901       3.806\n",
      "Ne9           -3.0242      0.643     -4.700      0.000      -4.300      -1.749\n",
      "maxO3v         0.3757      0.058      6.477      0.000       0.261       0.491\n",
      "==============================================================================\n",
      "Omnibus:                        9.766   Durbin-Watson:                   1.884\n",
      "Prob(Omnibus):                  0.008   Jarque-Bera (JB):               23.605\n",
      "Skew:                           0.020   Prob(JB):                     7.48e-06\n",
      "Kurtosis:                       5.249   Cond. No.                         805.\n",
      "==============================================================================\n",
      "\n",
      "Notes:\n",
      "[1] Standard Errors assume that the covariance matrix of the errors is correctly specified.\n"
     ]
    }
   ],
   "source": [
    "print(reg_multi.summary())"
   ]
  },
  {
   "cell_type": "markdown",
   "metadata": {},
   "source": [
    "Nous allons ici réaliser les tests à un niveau $\\alpha=5$% :"
   ]
  },
  {
   "cell_type": "code",
   "execution_count": 12,
   "metadata": {},
   "outputs": [],
   "source": [
    "alpha = 0.05"
   ]
  },
  {
   "cell_type": "markdown",
   "metadata": {},
   "source": [
    "Récupérons $n$, le nombre d'individus de l'échantillon, et $p$, le nombre de variables."
   ]
  },
  {
   "cell_type": "code",
   "execution_count": 13,
   "metadata": {},
   "outputs": [],
   "source": [
    "n = ozone.shape[0]\n",
    "p = 4"
   ]
  },
  {
   "cell_type": "markdown",
   "metadata": {},
   "source": [
    "Nous allons mener des analyses sur les valeurs atypiques et/ou influentes en travaillant sur un dataframe appelé  analyses."
   ]
  },
  {
   "cell_type": "code",
   "execution_count": 14,
   "metadata": {},
   "outputs": [],
   "source": [
    "analyses = pd.DataFrame({'obs':np.arange(1, n+1)})\n",
    "#analyses['obs'].astype('float', inplace=True)"
   ]
  },
  {
   "cell_type": "markdown",
   "metadata": {},
   "source": [
    "## Calculez les leviers\n",
    "\n",
    "On peut calculer les leviers comme ceci, en sachant que le seuil des leviers est de $2∗\\frac{p}{n}$."
   ]
  },
  {
   "cell_type": "code",
   "execution_count": 15,
   "metadata": {},
   "outputs": [],
   "source": [
    "analyses['levier'] = reg_multi.get_influence().hat_matrix_diag\n",
    "\n",
    "seuil_levier = 2*p/n"
   ]
  },
  {
   "cell_type": "code",
   "execution_count": 16,
   "metadata": {},
   "outputs": [
    {
     "data": {
      "image/png": "[encoded data removed]",
      "text/plain": [
       "<Figure size 720x432 with 1 Axes>"
      ]
     },
     "metadata": {
      "needs_background": "light"
     },
     "output_type": "display_data"
    }
   ],
   "source": [
    "plt.figure(figsize=(10,6))\n",
    "plt.bar(analyses['obs'], analyses['levier'])\n",
    "plt.xticks(np.arange(0, 115, step=5))\n",
    "plt.xlabel('Observation')\n",
    "plt.ylabel('Leviers')\n",
    "plt.plot([0, 115], [seuil_levier, seuil_levier], color='r')\n",
    "plt.show()"
   ]
  },
  {
   "cell_type": "markdown",
   "metadata": {},
   "source": [
    "Pour sélectionner les points pour lesquels le levier est supérieur au seuil, on exécute la ligne suivante :"
   ]
  },
  {
   "cell_type": "code",
   "execution_count": 17,
   "metadata": {},
   "outputs": [
    {
     "data": {
      "text/html": [
       "<div>\n",
       "<style scoped>\n",
       "    .dataframe tbody tr th:only-of-type {\n",
       "        vertical-align: middle;\n",
       "    }\n",
       "\n",
       "    .dataframe tbody tr th {\n",
       "        vertical-align: top;\n",
       "    }\n",
       "\n",
       "    .dataframe thead th {\n",
       "        text-align: right;\n",
       "    }\n",
       "</style>\n",
       "<table border=\"1\" class=\"dataframe\">\n",
       "  <thead>\n",
       "    <tr style=\"text-align: right;\">\n",
       "      <th></th>\n",
       "      <th>obs</th>\n",
       "      <th>levier</th>\n",
       "    </tr>\n",
       "  </thead>\n",
       "  <tbody>\n",
       "    <tr>\n",
       "      <th>21</th>\n",
       "      <td>22</td>\n",
       "      <td>0.081663</td>\n",
       "    </tr>\n",
       "    <tr>\n",
       "      <th>28</th>\n",
       "      <td>29</td>\n",
       "      <td>0.080777</td>\n",
       "    </tr>\n",
       "    <tr>\n",
       "      <th>30</th>\n",
       "      <td>31</td>\n",
       "      <td>0.076282</td>\n",
       "    </tr>\n",
       "    <tr>\n",
       "      <th>56</th>\n",
       "      <td>57</td>\n",
       "      <td>0.079123</td>\n",
       "    </tr>\n",
       "    <tr>\n",
       "      <th>71</th>\n",
       "      <td>72</td>\n",
       "      <td>0.085491</td>\n",
       "    </tr>\n",
       "    <tr>\n",
       "      <th>79</th>\n",
       "      <td>80</td>\n",
       "      <td>0.101387</td>\n",
       "    </tr>\n",
       "    <tr>\n",
       "      <th>80</th>\n",
       "      <td>81</td>\n",
       "      <td>0.095683</td>\n",
       "    </tr>\n",
       "    <tr>\n",
       "      <th>99</th>\n",
       "      <td>100</td>\n",
       "      <td>0.071728</td>\n",
       "    </tr>\n",
       "    <tr>\n",
       "      <th>105</th>\n",
       "      <td>106</td>\n",
       "      <td>0.089376</td>\n",
       "    </tr>\n",
       "  </tbody>\n",
       "</table>\n",
       "</div>"
      ],
      "text/plain": [
       "     obs    levier\n",
       "21    22  0.081663\n",
       "28    29  0.080777\n",
       "30    31  0.076282\n",
       "56    57  0.079123\n",
       "71    72  0.085491\n",
       "79    80  0.101387\n",
       "80    81  0.095683\n",
       "99   100  0.071728\n",
       "105  106  0.089376"
      ]
     },
     "execution_count": 17,
     "metadata": {},
     "output_type": "execute_result"
    }
   ],
   "source": [
    "analyses.loc[analyses['levier'] > seuil_levier, :]"
   ]
  },
  {
   "cell_type": "markdown",
   "metadata": {},
   "source": [
    "## Calculez les résidus studentisés\n",
    "\n",
    "Si l'on souhaite maintenant calculer les résidus studentisés, nous écrivons ceci, sachant que le seuil pour les résidus studentisés est une loi de Student à n-p-1 degrés de liberté :"
   ]
  },
  {
   "cell_type": "code",
   "execution_count": 20,
   "metadata": {},
   "outputs": [],
   "source": [
    "analyses['rstudent'] = reg_multi.get_influence().resid_studentized_internal\n",
    "seuil_rstudent = t.ppf(1-alpha/2,n-p-1)"
   ]
  },
  {
   "cell_type": "code",
   "execution_count": 21,
   "metadata": {},
   "outputs": [
    {
     "data": {
      "image/png": "[encoded data removed]",
      "text/plain": [
       "<Figure size 720x432 with 1 Axes>"
      ]
     },
     "metadata": {
      "needs_background": "light"
     },
     "output_type": "display_data"
    }
   ],
   "source": [
    "plt.figure(figsize=(10,6))\n",
    "plt.bar(analyses['obs'], analyses['rstudent'])\n",
    "plt.xticks(np.arange(0, 115, step=5))\n",
    "plt.xlabel('Observation')\n",
    "plt.ylabel('Résidus studentisés')\n",
    "plt.plot([0, 115], [seuil_rstudent, seuil_rstudent], color='r')\n",
    "plt.plot([0, 115], [-seuil_rstudent, -seuil_rstudent], color='r')\n",
    "plt.show()"
   ]
  },
  {
   "cell_type": "markdown",
   "metadata": {},
   "source": [
    "## Déterminez la distance de Cook\n",
    "\n",
    "Pour trouver la distance de Cook, nous exécutons ceci :"
   ]
  },
  {
   "cell_type": "code",
   "execution_count": 22,
   "metadata": {},
   "outputs": [],
   "source": [
    "influence = reg_multi.get_influence().summary_frame()"
   ]
  },
  {
   "cell_type": "markdown",
   "metadata": {},
   "source": [
    "Le seuil de la distance de Cook est de n-p. "
   ]
  },
  {
   "cell_type": "code",
   "execution_count": 23,
   "metadata": {},
   "outputs": [],
   "source": [
    "analyses['dcooks'] = influence['cooks_d']\n",
    "seuil_dcook = 4/(n-p)"
   ]
  },
  {
   "cell_type": "markdown",
   "metadata": {},
   "source": [
    "On peut détecter les observations influentes comme ceci :"
   ]
  },
  {
   "cell_type": "code",
   "execution_count": 24,
   "metadata": {},
   "outputs": [
    {
     "data": {
      "image/png": "[encoded data removed]",
      "text/plain": [
       "<Figure size 720x432 with 1 Axes>"
      ]
     },
     "metadata": {
      "needs_background": "light"
     },
     "output_type": "display_data"
    }
   ],
   "source": [
    "plt.figure(figsize=(10,6))\n",
    "plt.bar(analyses['obs'], analyses['dcooks'])\n",
    "plt.xticks(np.arange(0, 115, step=5))\n",
    "plt.xlabel('Observation')\n",
    "plt.ylabel('Leviers')\n",
    "plt.plot([0, 115], [seuil_dcook, seuil_dcook], color='r')\n",
    "plt.show()"
   ]
  },
  {
   "cell_type": "markdown",
   "metadata": {},
   "source": [
    "On ne retire des points qu'après avoir vérifié qu'ils sont effectivement atypiques, voire aberrants, au vu du modèle estimé.\n",
    "\n",
    "## Vérifier la colinéarité des variables\n",
    "\n",
    "Une autre chose à vérifier est l'éventuelle colinéarité approchée des variables :"
   ]
  },
  {
   "cell_type": "code",
   "execution_count": 25,
   "metadata": {},
   "outputs": [
    {
     "data": {
      "text/plain": [
       "[2.0678328061249003, 1.5277727396873015, 1.4747178841142814]"
      ]
     },
     "execution_count": 25,
     "metadata": {},
     "output_type": "execute_result"
    }
   ],
   "source": [
    "variables = reg_multi.model.exog\n",
    "[variance_inflation_factor(variables, i) for i in np.arange(1,variables.shape[1])]"
   ]
  },
  {
   "cell_type": "markdown",
   "metadata": {},
   "source": [
    "Ici, tous les coefficients sont inférieurs à 10, il n'y a donc pas de problème de colinéarité.\n",
    "\n",
    "## Testez l’homoscédasticité\n",
    "\n",
    "On peut également tester l’homoscédasticité (c'est-à-dire la constance de la variance) des résidus :"
   ]
  },
  {
   "cell_type": "code",
   "execution_count": 21,
   "metadata": {},
   "outputs": [
    {
     "name": "stdout",
     "output_type": "stream",
     "text": [
      "p value test Breusch Pagan: 0.07865197865995636\n"
     ]
    }
   ],
   "source": [
    "_, pval, __, f_pval = statsmodels.stats.diagnostic.het_breuschpagan(reg_multi.resid, variables)\n",
    "print('p value test Breusch Pagan:', pval)"
   ]
  },
  {
   "cell_type": "markdown",
   "metadata": {},
   "source": [
    "La p-valeur ici n'est pas inférieure à $5$%, on ne rejette pas l'hypothèse $H0$ selon laquelle les variances sont constantes (l'hypothèse d’homoscédasticité).\n",
    "\n",
    "## Testez la normalité des résidus\n",
    "\n",
    "Si l'on veut tester la normalité des résidus, on peut faire un test de Shapiro-Wilk."
   ]
  },
  {
   "cell_type": "code",
   "execution_count": 22,
   "metadata": {},
   "outputs": [
    {
     "data": {
      "text/plain": [
       "(0.9623235464096069, 0.0030248425900936127)"
      ]
     },
     "execution_count": 22,
     "metadata": {},
     "output_type": "execute_result"
    }
   ],
   "source": [
    "shapiro(reg_multi.resid)"
   ]
  },
  {
   "cell_type": "markdown",
   "metadata": {},
   "source": [
    "Ici, l'hypothèse de normalité est remise en cause (p-value = 0.003 < 0.05).\n",
    "\n",
    "Néanmoins, l'observation des résidus, le fait qu'ils ne soient pas très différents d'une distribution symétrique, et le fait que l'échantillon soit de taille suffisante (supérieure à 30) permettent de dire que **les résultats obtenus par le modèle linéaire gaussien ne sont pas absurdes**, même si le résidu n'est pas considéré comme étant gaussien.\n",
    "\n",
    "Nous aurions pu aussi sélectionner automatiquement un modèle avec l'ensemble des variables à disposition (variables météo et pic d'ozone de la veille) :"
   ]
  },
  {
   "cell_type": "code",
   "execution_count": 23,
   "metadata": {},
   "outputs": [
    {
     "name": "stdout",
     "output_type": "stream",
     "text": [
      "_______________________________\n",
      "maxO3 ~ T9 + T12 + Ne12 + T15 + maxO3v + Ne15 + Ne9 + 1\n",
      "remove Ne15 (p-value : 0.928 )\n",
      "\n",
      "_______________________________\n",
      "maxO3 ~ T9 + T12 + Ne12 + T15 + maxO3v + Ne9 + 1\n",
      "remove Ne12 (p-value : 0.787 )\n",
      "\n",
      "_______________________________\n",
      "maxO3 ~ T9 + T12 + T15 + maxO3v + Ne9 + 1\n",
      "remove T15 (p-value : 0.481 )\n",
      "\n",
      "_______________________________\n",
      "maxO3 ~ T9 + T12 + maxO3v + Ne9 + 1\n",
      "remove T9 (p-value : 0.466 )\n",
      "\n",
      "_______________________________\n",
      "maxO3 ~ T12 + maxO3v + Ne9 + 1\n",
      "is the final model !\n",
      "\n",
      "                            OLS Regression Results                            \n",
      "==============================================================================\n",
      "Dep. Variable:                  maxO3   R-squared:                       0.752\n",
      "Model:                            OLS   Adj. R-squared:                  0.745\n",
      "Method:                 Least Squares   F-statistic:                     109.1\n",
      "Date:                Tue, 12 Mar 2019   Prob (F-statistic):           1.46e-32\n",
      "Time:                        14:02:25   Log-Likelihood:                -454.30\n",
      "No. Observations:                 112   AIC:                             916.6\n",
      "Df Residuals:                     108   BIC:                             927.5\n",
      "Df Model:                           3                                         \n",
      "Covariance Type:            nonrobust                                         \n",
      "==============================================================================\n",
      "                 coef    std err          t      P>|t|      [0.025      0.975]\n",
      "------------------------------------------------------------------------------\n",
      "Intercept      9.7622     11.100      0.879      0.381     -12.241      31.765\n",
      "T12            2.8531      0.481      5.937      0.000       1.901       3.806\n",
      "maxO3v         0.3757      0.058      6.477      0.000       0.261       0.491\n",
      "Ne9           -3.0242      0.643     -4.700      0.000      -4.300      -1.749\n",
      "==============================================================================\n",
      "Omnibus:                        9.766   Durbin-Watson:                   1.884\n",
      "Prob(Omnibus):                  0.008   Jarque-Bera (JB):               23.605\n",
      "Skew:                           0.020   Prob(JB):                     7.48e-06\n",
      "Kurtosis:                       5.249   Cond. No.                         805.\n",
      "==============================================================================\n",
      "\n",
      "Warnings:\n",
      "[1] Standard Errors assume that the covariance matrix of the errors is correctly specified.\n"
     ]
    }
   ],
   "source": [
    "columns = ['maxO3','T9','T12','T15','Ne9','Ne12','Ne15','maxO3v']\n",
    "reg_backward = backward_selected(ozone[columns], 'maxO3')"
   ]
  },
  {
   "cell_type": "markdown",
   "metadata": {},
   "source": [
    "*Et voilà, vous avez vu en pratique comment réaliser une régression linéaire multiple pour déterminer et prédire la concentration d'ozone dans l'atmosphère. Dans la prochaine partie, vous aborderez le modèle de régression logistique.*"
   ]
  },
  {
   "cell_type": "code",
   "execution_count": null,
   "metadata": {},
   "outputs": [],
   "source": []
  }
 ],
 "metadata": {
  "kernelspec": {
   "display_name": "Python 3",
   "language": "python",
   "name": "python3"
  },
  "language_info": {
   "codemirror_mode": {
    "name": "ipython",
    "version": 3
   },
   "file_extension": ".py",
   "mimetype": "text/x-python",
   "name": "python",
   "nbconvert_exporter": "python",
   "pygments_lexer": "ipython3",
   "version": "3.8.5"
  },
  "toc": {
   "base_numbering": 1,
   "nav_menu": {},
   "number_sections": true,
   "sideBar": true,
   "skip_h1_title": false,
   "title_cell": "Table of Contents",
   "title_sidebar": "Contents",
   "toc_cell": false,
   "toc_position": {},
   "toc_section_display": true,
   "toc_window_display": false
  }
 },
 "nbformat": 4,
 "nbformat_minor": 2
}
