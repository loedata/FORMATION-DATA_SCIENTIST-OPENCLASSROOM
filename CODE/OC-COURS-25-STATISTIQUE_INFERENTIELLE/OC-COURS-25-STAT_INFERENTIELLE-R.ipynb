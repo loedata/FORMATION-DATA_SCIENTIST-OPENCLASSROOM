{
 "cells": [
  {
   "cell_type": "markdown",
   "metadata": {},
   "source": [
    "# <span class=\"bg-primary\">26. STATISTIQUE INFERENTIELLE - R</span>"
   ]
  },
  {
   "cell_type": "markdown",
   "metadata": {},
   "source": [
    "# <span class=\"bg-info\">Screencast 1 : stats descs sur Essence</span>"
   ]
  },
  {
   "cell_type": "code",
   "execution_count": null,
   "metadata": {},
   "outputs": [],
   "source": [
    "# On importe le fichier contenant les consommations d’essence\n",
    "essence <- read.table(\"essence.txt\",header=TRUE)"
   ]
  },
  {
   "cell_type": "code",
   "execution_count": null,
   "metadata": {},
   "outputs": [],
   "source": [
    "# On calcule la moyenne, la variance et l’écart-type de l’échantillon\n",
    "\n",
    "xbar <- mean(essence$conso)\n",
    "round(xbar,digits=2)\n",
    "## [1] 31.45\n",
    "\n",
    "sprime <- sd(essence$conso)\n",
    "round(sprime,digits=2)\n",
    "## [1] 2.16\n",
    "\n",
    "sprime2 <- var(essence$conso)\n",
    "round(sprime2,digits=2)\n",
    "## [1] 4.66"
   ]
  },
  {
   "cell_type": "code",
   "execution_count": null,
   "metadata": {},
   "outputs": [],
   "source": [
    "# Si on souhaite obtenir la variance “biaisée”\n",
    "n_essence <- dim(essence)[1]\n",
    "v <- sprime2*(n_essence-1)/n_essence\n",
    "round(v,digits=2)\n",
    "## [1] 4.63"
   ]
  },
  {
   "cell_type": "code",
   "execution_count": null,
   "metadata": {},
   "outputs": [],
   "source": [
    "# On peut visualiser l’histogramme \n",
    "hist(essence$conso,prob=TRUE,xlab=\"\",ylab=\"\",ylim=c(0, 0.25),\n",
    "     main=\"Histogramme\")\n"
   ]
  },
  {
   "cell_type": "code",
   "execution_count": null,
   "metadata": {},
   "outputs": [],
   "source": [
    "# On peut visualiser sur cet histogramme la moyenne empirique\n",
    "hist(essence$conso,prob=TRUE,xlab=\"\",ylab=\"\",ylim=c(0, 0.25),\n",
    "     main=\"Histogramme\")\n",
    "abline(v=xbar,col=\"blue\",lwd=3)\n",
    "legend(\"topright\",legend=(\"Moyenne empirique\"),col=\"blue\",lty=1,lwd=3)"
   ]
  },
  {
   "cell_type": "code",
   "execution_count": null,
   "metadata": {},
   "outputs": [],
   "source": [
    "#  on peut visualiser sur cet histogramme la moyenne empirique et le seuil \n",
    "# “métier” (le seuil métier est la valeur sur laquelle souhaite communiquer le \n",
    "# constructeur : 31 litres au cent)\n",
    "mu0 <- 31\n",
    "\n",
    "hist(essence$conso,prob=TRUE,xlab=\"\",ylab=\"\",ylim=c(0, 0.25),main=\"Histogramme\")\n",
    "abline(v=xbar,col=\"blue\",lwd=3)\n",
    "abline(v=mu0,col=\"red\",lwd=3)\n",
    "legend(\"topright\",legend=c(\"Moyenne empirique\",\"Seuil testé\"),\n",
    "       col=c(\"blue\",\"red\"),lty=1,lwd=3)"
   ]
  },
  {
   "cell_type": "code",
   "execution_count": null,
   "metadata": {},
   "outputs": [],
   "source": [
    "# On peut enfin superposer sur cet histogramme la densité gaussienne\n",
    "hist(essence$conso,prob=TRUE,xlab=\"\",ylab=\"\",ylim=c(0, 0.25),\n",
    "     main=\"Histogramme et densité normale\")\n",
    "curve(dnorm(x,mean=xbar,sd=sprime),col=\"red\",lwd=2,add=TRUE,yaxt=\"n\")"
   ]
  },
  {
   "cell_type": "markdown",
   "metadata": {},
   "source": [
    "# <span class=\"bg-info\">Screencast 2 : IC sur Guerison</span>"
   ]
  },
  {
   "cell_type": "code",
   "execution_count": null,
   "metadata": {},
   "outputs": [],
   "source": [
    "# On importe le fichier contenant les guérisons ou non-guérisons\n",
    "guerison <- read.table(\"guerison.txt\",header=TRUE)"
   ]
  },
  {
   "cell_type": "code",
   "execution_count": null,
   "metadata": {},
   "outputs": [],
   "source": [
    "# On peut estimer le taux de guérison théorique p\n",
    "n_guerison <- dim(guerison)[1]\n",
    "n_guerison_gueris <- sum(guerison$taux==1)\n",
    "\n",
    "p_estim <- n_guerison_gueris/n_guerison"
   ]
  },
  {
   "cell_type": "code",
   "execution_count": null,
   "metadata": {},
   "outputs": [],
   "source": [
    "# Si on lance “manuellement” les calculs au niveau de test 5%\n",
    "alpha <- 0.05\n",
    "icinf <- p_estim-qnorm(p=1-alpha/2)*sqrt(p_estim*(1-p_estim)/n_guerison)\n",
    "round(icinf,digits=2)\n",
    "## [1] 0.72\n",
    "\n",
    "icsup <- p_estim+qnorm(p=1-alpha/2)*sqrt(p_estim*(1-p_estim)/n_guerison)\n",
    "round(icsup,digits=2)\n",
    "## [1] 0.83"
   ]
  },
  {
   "cell_type": "code",
   "execution_count": null,
   "metadata": {},
   "outputs": [],
   "source": [
    "# En pratique, le data analyst peut obtenir simplement cet intervalle à l’aide \n",
    "# de la commande  prop.test  (cette commande lance d’autres calculs en sus de\n",
    "# l’intervalle de confiance, on les verra plus tard)\n",
    "alpha <- 0.05\n",
    "prop.test(n_guerison_gueris,n_guerison,conf.level=1-alpha)"
   ]
  },
  {
   "cell_type": "code",
   "execution_count": null,
   "metadata": {},
   "outputs": [],
   "source": [
    "## \n",
    "## 1-sample proportions test with continuity correction\n",
    "## \n",
    "## data: n_guerison_gueris out of n_guerison, null probability 0.5\n",
    "## X-squared = 63.375, df = 1, p-value = 1.709e-15\n",
    "## alternative hypothesis: true p is not equal to 0.5\n",
    "## 95 percent confidence interval:\n",
    "## 0.7103413 0.8260184\n",
    "## sample estimates:\n",
    "## p \n",
    "## 0.7731481"
   ]
  },
  {
   "cell_type": "code",
   "execution_count": null,
   "metadata": {},
   "outputs": [],
   "source": [
    "# On aurait également pu obtenir un intervalle de confiance “exact”, basé sur\n",
    "# la loi binomiale, à l’aide de la commande  binom.test\n",
    "alpha <- 0.05\n",
    "binom.test(n_guerison_gueris,n_guerison,conf.level=1-alpha)"
   ]
  },
  {
   "cell_type": "code",
   "execution_count": null,
   "metadata": {},
   "outputs": [],
   "source": [
    "## \n",
    "## Exact binomial test\n",
    "## \n",
    "## data: n_guerison_gueris and n_guerison\n",
    "## number of successes = 167, number of trials = 216, p-value =\n",
    "## 2.925e-16\n",
    "## alternative hypothesis: true probability of success is not equal to 0.5\n",
    "## 95 percent confidence interval:\n",
    "## 0.7114251 0.8272107\n",
    "## sample estimates:\n",
    "## probability of success \n",
    "## 0.7731481"
   ]
  },
  {
   "cell_type": "code",
   "execution_count": null,
   "metadata": {},
   "outputs": [],
   "source": [
    "# Enfin, si on avait choisi un niveau de confiance plus faible, 1−α=90% par \n",
    "# exemple, on aurait obtenu un intervalle de confiance plus étroit\n",
    "alpha <- 0.10\n",
    "prop.test(n_guerison_gueris,n_guerison,conf.level=1-alpha)"
   ]
  },
  {
   "cell_type": "code",
   "execution_count": null,
   "metadata": {},
   "outputs": [],
   "source": [
    "# \n",
    "## 1-sample proportions test with continuity correction\n",
    "## \n",
    "## data: n_guerison_gueris out of n_guerison, null probability 0.5\n",
    "## X-squared = 63.375, df = 1, p-value = 1.709e-15\n",
    "## alternative hypothesis: true p is not equal to 0.5\n",
    "## 90 percent confidence interval:\n",
    "## 0.7206161 0.8185913\n",
    "## sample estimates:\n",
    "## p \n",
    "## 0.7731481"
   ]
  },
  {
   "cell_type": "markdown",
   "metadata": {},
   "source": [
    "# <span class=\"bg-info\">Screencast 3 : IC sur moyenne Essence</span>"
   ]
  },
  {
   "cell_type": "code",
   "execution_count": null,
   "metadata": {},
   "outputs": [],
   "source": [
    "# Si on lance “manuellement” les calculs au niveau de test 5% :\n",
    "alpha <- 0.05\n",
    "icinf <- xbar-qt(p=1-alpha/2,df=n_essence-1)*sprime/sqrt(n_essence)\n",
    "round(icinf,digits=2)\n",
    "## [1] 31.07\n",
    "\n",
    "icsup <- xbar+qt(p=1-alpha/2,df=n_essence-1)*sprime/sqrt(n_essence)\n",
    "round(icsup,digits=2)\n",
    "## [1] 31.83"
   ]
  },
  {
   "cell_type": "code",
   "execution_count": null,
   "metadata": {},
   "outputs": [],
   "source": [
    "# En pratique, le data analyst peut utiliser la commande  t.test  pour obtenir\n",
    "# cet intervalle de confiance :*\n",
    "alpha <- 0.05\n",
    "t.test(essence$conso,conf.level=1-alpha)"
   ]
  },
  {
   "cell_type": "code",
   "execution_count": null,
   "metadata": {},
   "outputs": [],
   "source": [
    "##\n",
    "## One Sample t-test\n",
    "##\n",
    "## data: essence$conso\n",
    "## t = 164.74, df = 127, p-value < 2.2e-16\n",
    "## alternative hypothesis: true mean is not equal to 0\n",
    "## 95 percent confidence interval:\n",
    "## 31.07169 31.82722\n",
    "## sample estimates:\n",
    "## mean of x\n",
    "## 31.44945"
   ]
  },
  {
   "cell_type": "markdown",
   "metadata": {},
   "source": [
    "# <span class=\"bg-info\">Screencast 4 : IC sur variance Essence</span>"
   ]
  },
  {
   "attachments": {
    "image.png": {
     "image/png": "[encoded data removed]"
    }
   },
   "cell_type": "markdown",
   "metadata": {},
   "source": [
    "![image.png](attachment:image.png)"
   ]
  },
  {
   "cell_type": "code",
   "execution_count": null,
   "metadata": {},
   "outputs": [],
   "source": [
    "alpha <- 0.05\n",
    "icinf <- (n_essence-1)*sprime2/qchisq(p=1-alpha/2,df=n_essence-1)\n",
    "round(icinf,digits=2)\n",
    "## [1] 3.7\n",
    "\n",
    "icsup <- (n_essence-1)*sprime2/qchisq(p=alpha/2,df=n_essence-1)\n",
    "round(icsup,digits=2)\n",
    "## [1] 6.06"
   ]
  },
  {
   "cell_type": "code",
   "execution_count": null,
   "metadata": {},
   "outputs": [],
   "source": [
    "library(EnvStats)"
   ]
  },
  {
   "cell_type": "code",
   "execution_count": null,
   "metadata": {},
   "outputs": [],
   "source": [
    "## \n",
    "## Attaching package: 'EnvStats'\n",
    "## The following objects are masked from 'package:stats':\n",
    "## \n",
    "## predict, predict.lm\n",
    "## The following object is masked from 'package:base':\n",
    "## \n",
    "## print.default"
   ]
  },
  {
   "cell_type": "code",
   "execution_count": null,
   "metadata": {},
   "outputs": [],
   "source": [
    "alpha <- 0.05\n",
    "varTest(essence$conso,conf.level=1-alpha)"
   ]
  },
  {
   "cell_type": "code",
   "execution_count": null,
   "metadata": {},
   "outputs": [],
   "source": [
    "## \n",
    "## Results of Hypothesis Test\n",
    "## --------------------------\n",
    "## \n",
    "## Null Hypothesis: variance = 1\n",
    "## \n",
    "## Alternative Hypothesis: True variance is not equal to 1\n",
    "## \n",
    "## Test Name: Chi-Squared Test on Variance\n",
    "## \n",
    "## Estimated Parameter(s): variance = 4.66481\n",
    "## \n",
    "## Data: essence$conso\n",
    "## \n",
    "## Test Statistic: Chi-Squared = 592.4309\n",
    "## \n",
    "## Test Statistic Parameter: df = 127\n",
    "## \n",
    "## P-value: 0\n",
    "## \n",
    "## 95% Confidence Interval: LCL = 3.700708\n",
    "## UCL = 6.063869"
   ]
  },
  {
   "cell_type": "markdown",
   "metadata": {},
   "source": [
    "# <span class=\"bg-info\">Screencast 5 : test sur Guerison</span>"
   ]
  },
  {
   "cell_type": "code",
   "execution_count": null,
   "metadata": {},
   "outputs": [],
   "source": [
    "prop.test(x=167,n=216,p=0.75,alternative=\"greater\")"
   ]
  },
  {
   "cell_type": "code",
   "execution_count": null,
   "metadata": {},
   "outputs": [],
   "source": [
    "# test naissance garçon\n",
    "prop.test(x=39284,n=781170,p=0.5,alternative=\"greater\")"
   ]
  },
  {
   "cell_type": "markdown",
   "metadata": {},
   "source": [
    "# Tester la moyenne (théorique) d'un échantillon"
   ]
  },
  {
   "cell_type": "code",
   "execution_count": null,
   "metadata": {},
   "outputs": [],
   "source": [
    "alpha <- 0.05\n",
    "t.test(essence$conso,mu=31,alternative=\"two.sided\")"
   ]
  },
  {
   "cell_type": "code",
   "execution_count": null,
   "metadata": {},
   "outputs": [],
   "source": [
    "## \n",
    "## Results of Hypothesis Test\n",
    "## --------------------------\n",
    "## \n",
    "## Null Hypothesis: mean = 31\n",
    "## \n",
    "## Alternative Hypothesis: True mean is not equal to 31\n",
    "## \n",
    "## Test Name: One Sample t-test\n",
    "## \n",
    "## Estimated Parameter(s): mean of x = 31.44945\n",
    "## \n",
    "## Data: essence$conso\n",
    "## \n",
    "## Test Statistic: t = 2.354358\n",
    "## \n",
    "## Test Statistic Parameter: df = 127\n",
    "## \n",
    "## P-value: 0.02008833\n",
    "## \n",
    "## 95% Confidence Interval: LCL = 31.07169\n",
    "## UCL = 31.82722"
   ]
  },
  {
   "cell_type": "markdown",
   "metadata": {},
   "source": [
    "# Tester la variance (théorique) d'un échantillon"
   ]
  },
  {
   "cell_type": "code",
   "execution_count": null,
   "metadata": {},
   "outputs": [],
   "source": [
    "library(EnvStats)\n",
    "alpha <- 0.05\n",
    "varTest(essence$conso,sigma.squared=4.5,alternative=\"greater\")"
   ]
  },
  {
   "cell_type": "code",
   "execution_count": null,
   "metadata": {},
   "outputs": [],
   "source": [
    "## \n",
    "## Results of Hypothesis Test\n",
    "## --------------------------\n",
    "## \n",
    "## Null Hypothesis: variance = 4.5\n",
    "## \n",
    "## Alternative Hypothesis: True variance is greater than 4.5\n",
    "## \n",
    "## Test Name: Chi-Squared Test on Variance\n",
    "## \n",
    "## Estimated Parameter(s): variance = 4.66481\n",
    "## \n",
    "## Data: essence$conso\n",
    "## \n",
    "## Test Statistic: Chi-Squared = 131.6513\n",
    "## \n",
    "## Test Statistic Parameter: df = 127\n",
    "## \n",
    "## P-value: 0.3706697\n",
    "## \n",
    "## 95% Confidence Interval: LCL = 3.839436\n",
    "## UCL = Inf"
   ]
  },
  {
   "cell_type": "markdown",
   "metadata": {},
   "source": [
    "# Comparez deux échantillons gaussiens (test de comparaison)"
   ]
  },
  {
   "cell_type": "code",
   "execution_count": null,
   "metadata": {},
   "outputs": [],
   "source": [
    "versi <- iris[iris$Species==\"versicolor\",]$Petal.Length\n",
    "virgi <- iris[iris$Species==\"virginica\",]$Petal.Length"
   ]
  },
  {
   "cell_type": "code",
   "execution_count": null,
   "metadata": {},
   "outputs": [],
   "source": [
    "# On teste tout d’abord l’égalité des variances à l’aide de la commande\n",
    "# var.test  :\n",
    "var.test(versi,virgi)"
   ]
  },
  {
   "cell_type": "code",
   "execution_count": null,
   "metadata": {},
   "outputs": [],
   "source": [
    "## \n",
    "## Results of Hypothesis Test\n",
    "## --------------------------\n",
    "## \n",
    "## Null Hypothesis: ratio of variances = 1\n",
    "## \n",
    "## Alternative Hypothesis: True ratio of variances is not equal to 1\n",
    "## \n",
    "## Test Name: F test to compare two variances\n",
    "## \n",
    "## Estimated Parameter(s): ratio of variances = 0.7249678\n",
    "## \n",
    "## Data: versi and virgi\n",
    "## \n",
    "## Test Statistic: F = 0.7249678\n",
    "## \n",
    "## Test Statistic Parameters: num df = 49\n",
    "## denom df = 49\n",
    "## \n",
    "## P-value: 0.2637454\n",
    "## \n",
    "## 95% Confidence Interval: LCL = 0.411402\n",
    "## UCL = 1.277530\n",
    "\n",
    "# La p-valeur valant 0.26, on ne rejette donc pas l’égalité des variances \n",
    "# au niveau de test 5%.\n",
    "\n",
    "# On teste ensuite l’égalité des moyennes à l’aide de la command"
   ]
  },
  {
   "cell_type": "code",
   "execution_count": null,
   "metadata": {},
   "outputs": [],
   "source": [
    "# On teste ensuite l’égalité des moyennes à l’aide de la commande  t.test\n",
    "t.test(versi,virgi,var.equal=TRUE)"
   ]
  },
  {
   "cell_type": "code",
   "execution_count": null,
   "metadata": {},
   "outputs": [],
   "source": [
    "## \n",
    "## Results of Hypothesis Test\n",
    "## --------------------------\n",
    "## \n",
    "## Null Hypothesis: difference in means = 0\n",
    "## \n",
    "## Alternative Hypothesis: True difference in means is not equal to 0\n",
    "## \n",
    "## Test Name: Two Sample t-test\n",
    "## \n",
    "## Estimated Parameter(s): mean of x = 4.260\n",
    "## mean of y = 5.552\n",
    "## \n",
    "## Data: versi and virgi\n",
    "## \n",
    "## Test Statistic: t = -12.60378\n",
    "## \n",
    "## Test Statistic Parameter: df = 98\n",
    "## \n",
    "## P-value: 3.17882e-22\n",
    "## \n",
    "## 95% Confidence Interval: LCL = -1.495426\n",
    "## UCL = -1.088574"
   ]
  },
  {
   "cell_type": "code",
   "execution_count": null,
   "metadata": {},
   "outputs": [],
   "source": [
    "# On teste si les dés sont équilibrés \n",
    "n <- c(185,1149,3265,5475,6114,5194,3067,1331,403,105,14,4,0)\n",
    "p0 <- dbinom(0:12,12,1/3)\n",
    "chisq.test(n,p=p0)"
   ]
  },
  {
   "cell_type": "code",
   "execution_count": null,
   "metadata": {},
   "outputs": [],
   "source": [
    "## Warning in chisq.test(n, p = p0): Chi-squared approximation may be\n",
    "## incorrect\n",
    "\n",
    "## \n",
    "## Results of Hypothesis Test\n",
    "## --------------------------\n",
    "## \n",
    "## Alternative Hypothesis: \n",
    "## \n",
    "## Test Name: Chi-squared test for given probabilities\n",
    "## \n",
    "## Data: n\n",
    "## \n",
    "## Test Statistic: X-squared = 41.31222\n",
    "## \n",
    "## Test Statistic Parameter: df = 12\n",
    "## \n",
    "## P-value: 4.344864e-05"
   ]
  },
  {
   "cell_type": "code",
   "execution_count": null,
   "metadata": {},
   "outputs": [],
   "source": [
    "# Le test n’est pas valide car les effectifs ne sont pas suffisants pour les valeurs 10, 11 et 12. On agrège ces modalités et on relance les calculs\n",
    "n <- c(185,1149,3265,5475,6114,5194,3067,1331,403,105,18)\n",
    "p0 <- c(dbinom(0:9,12,1/3),sum(dbinom(10:12,12,1/3)))\n",
    "chisq.test(n,p=p0)"
   ]
  },
  {
   "cell_type": "code",
   "execution_count": null,
   "metadata": {},
   "outputs": [],
   "source": [
    "## \n",
    "## Results of Hypothesis Test\n",
    "## --------------------------\n",
    "## \n",
    "## Alternative Hypothesis: \n",
    "## \n",
    "## Test Name: Chi-squared test for given probabilities\n",
    "## \n",
    "## Data: n\n",
    "## \n",
    "## Test Statistic: X-squared = 35.4943\n",
    "## \n",
    "## Test Statistic Parameter: df = 10\n",
    "## \n",
    "## P-value: 0.0001027878"
   ]
  },
  {
   "cell_type": "code",
   "execution_count": null,
   "metadata": {},
   "outputs": [],
   "source": [
    "# exemple de la consommation d'essence\n",
    "# On peut tester l’adéquation de la consommation d’essence à une loi normale à l’aide de Kolmogorov-Smirnov\n",
    "ks.test(essence$conso,\"pnorm\",mean=mean(essence$conso),sd=sd(essence$conso))"
   ]
  },
  {
   "cell_type": "code",
   "execution_count": null,
   "metadata": {},
   "outputs": [],
   "source": [
    "## Warning in ks.test(essence$conso, \"pnorm\", mean = mean(essence$conso), sd\n",
    "## = sd(essence$conso)): ties should not be present for the Kolmogorov-Smirnov\n",
    "## test\n",
    "\n",
    "## \n",
    "## Results of Hypothesis Test\n",
    "## --------------------------\n",
    "## \n",
    "## Alternative Hypothesis: two-sided\n",
    "## \n",
    "## Test Name: One-sample Kolmogorov-Smirnov test\n",
    "## \n",
    "## Data: essence$conso\n",
    "## \n",
    "## Test Statistic: D = 0.04830966\n",
    "## \n",
    "## P-value: 0.9262283"
   ]
  },
  {
   "cell_type": "code",
   "execution_count": null,
   "metadata": {},
   "outputs": [],
   "source": [
    "# On aurait également pu lancer un test de Shapiro-Wilk :\n",
    "shapiro.test(essence$conso)"
   ]
  },
  {
   "cell_type": "code",
   "execution_count": null,
   "metadata": {},
   "outputs": [],
   "source": [
    "## \n",
    "## Results of Hypothesis Test\n",
    "## --------------------------\n",
    "## \n",
    "## Alternative Hypothesis: \n",
    "## \n",
    "## Test Name: Shapiro-Wilk normality test\n",
    "## \n",
    "## Data: essence$conso\n",
    "## \n",
    "## Test Statistic: W = 0.9871523\n",
    "## \n",
    "## P-value: 0.2743285"
   ]
  },
  {
   "cell_type": "code",
   "execution_count": null,
   "metadata": {},
   "outputs": [],
   "source": []
  },
  {
   "cell_type": "code",
   "execution_count": null,
   "metadata": {},
   "outputs": [],
   "source": []
  }
 ],
 "metadata": {
  "kernelspec": {
   "display_name": "R",
   "language": "R",
   "name": "ir"
  },
  "language_info": {
   "codemirror_mode": {
    "name": "ipython",
    "version": 3
   },
   "file_extension": ".py",
   "mimetype": "text/x-python",
   "name": "python",
   "nbconvert_exporter": "python",
   "pygments_lexer": "ipython3",
   "version": "3.8.5"
  }
 },
 "nbformat": 4,
 "nbformat_minor": 4
}
