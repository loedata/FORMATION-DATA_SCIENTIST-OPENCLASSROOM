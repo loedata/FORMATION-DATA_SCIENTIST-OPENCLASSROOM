{
 "cells": [
  {
   "cell_type": "markdown",
   "metadata": {},
   "source": [
    "# 5. OC - INTRO MACHINE LEARNING"
   ]
  },
  {
   "cell_type": "code",
   "execution_count": 2,
   "metadata": {},
   "outputs": [],
   "source": [
    "# On importe les librairies dont on aura besoin pour ce tp\n",
    "import numpy as np\n",
    "import pandas as pd\n",
    "import matplotlib.pyplot as plt"
   ]
  },
  {
   "cell_type": "code",
   "execution_count": 3,
   "metadata": {},
   "outputs": [],
   "source": [
    "# On charge le dataset\n",
    "house_path = 'C:/2.DATA_SCIENCE/LOE/7. OPENCLASSROOM\\OPENCLASSROOM_COURS/5-INTRO_MACHINE_LEARNING/'\n",
    "house_data = pd.read_csv('house.csv')"
   ]
  },
  {
   "cell_type": "code",
   "execution_count": 4,
   "metadata": {},
   "outputs": [
    {
     "data": {
      "image/png": "[encoded data removed]",
      "text/plain": [
       "<Figure size 432x288 with 1 Axes>"
      ]
     },
     "metadata": {
      "needs_background": "light"
     },
     "output_type": "display_data"
    }
   ],
   "source": [
    "# On affiche le nuage de points dont on dispose\n",
    "plt.plot(house_data['surface'], house_data['loyer'], 'ro', markersize=4)\n",
    "plt.show()"
   ]
  },
  {
   "cell_type": "code",
   "execution_count": 5,
   "metadata": {},
   "outputs": [],
   "source": [
    "house_data = house_data[house_data['loyer'] < 10000]"
   ]
  },
  {
   "cell_type": "markdown",
   "metadata": {},
   "source": [
    "# Apprentissage : trouvez le θ optimal"
   ]
  },
  {
   "cell_type": "code",
   "execution_count": 6,
   "metadata": {},
   "outputs": [
    {
     "name": "stdout",
     "output_type": "stream",
     "text": [
      "[[266.45460292]\n",
      " [ 30.66119596]]\n"
     ]
    }
   ],
   "source": [
    "# On décompose le dataset et on le transforme en matrices pour pouvoir effectuer notre calcul\n",
    "X = np.matrix([np.ones(house_data.shape[0]), house_data['surface'].values]).T\n",
    "y = np.matrix(house_data['loyer']).T\n",
    "\n",
    "# On effectue le calcul exact du paramètre theta\n",
    "theta = np.linalg.inv(X.T.dot(X)).dot(X.T).dot(y)\n",
    "\n",
    "print(theta)"
   ]
  },
  {
   "cell_type": "markdown",
   "metadata": {},
   "source": [
    "# Effectuer des prédictions"
   ]
  },
  {
   "cell_type": "code",
   "execution_count": 7,
   "metadata": {},
   "outputs": [
    {
     "data": {
      "text/plain": [
       "1339.5964615602256"
      ]
     },
     "execution_count": 7,
     "metadata": {},
     "output_type": "execute_result"
    }
   ],
   "source": [
    "# theta.item(0) + theta.item(1) * surface_en_m2\n",
    "#  ex : 35 m2\n",
    "theta.item(0) + theta.item(1) * 35"
   ]
  },
  {
   "cell_type": "markdown",
   "metadata": {},
   "source": [
    "# implémentation de la régression linéaire dans scikit learn"
   ]
  },
  {
   "cell_type": "code",
   "execution_count": null,
   "metadata": {},
   "outputs": [],
   "source": [
    "from sklearn import linear_model\n",
    "regr = linear_model.LinearRegression()\n",
    "regr.fit(X, y)\n",
    "regr.predict(<des données de test>)"
   ]
  },
  {
   "cell_type": "markdown",
   "metadata": {},
   "source": [
    "# Echantillonage pour être certain d'avoir des données non biaisées"
   ]
  },
  {
   "cell_type": "code",
   "execution_count": null,
   "metadata": {},
   "outputs": [],
   "source": [
    "sample = np.random.randint(data_size, size=int(data_size*0.1) )\n",
    "sampled_data = data[sample]"
   ]
  },
  {
   "cell_type": "code",
   "execution_count": 11,
   "metadata": {},
   "outputs": [],
   "source": [
    "# avec librairie scikit learn\n",
    "from sklearn.model_selection import train_test_split\n",
    "xtrain, xtest, ytrain, ytest = train_test_split(X, y, train_size=0.8)"
   ]
  },
  {
   "cell_type": "markdown",
   "metadata": {},
   "source": [
    "# MODELE KNN"
   ]
  },
  {
   "cell_type": "code",
   "execution_count": 12,
   "metadata": {},
   "outputs": [],
   "source": [
    "from sklearn.datasets import fetch_openml\n",
    "mnist = fetch_openml('mnist_784', version=1)"
   ]
  },
  {
   "cell_type": "code",
   "execution_count": 13,
   "metadata": {},
   "outputs": [
    {
     "name": "stdout",
     "output_type": "stream",
     "text": [
      "(70000, 784)\n",
      "(70000,)\n"
     ]
    }
   ],
   "source": [
    "# Le dataset principal qui contient toutes les images\n",
    "print (mnist.data.shape)\n",
    "\n",
    "# Le vecteur d'annotations associé au dataset (nombre entre 0 et 9)\n",
    "print (mnist.target.shape)"
   ]
  },
  {
   "cell_type": "markdown",
   "metadata": {},
   "source": [
    "## ECHANTILLONNAGE"
   ]
  },
  {
   "cell_type": "code",
   "execution_count": 15,
   "metadata": {},
   "outputs": [],
   "source": [
    "# UTILISER sklearn.utils.resample mieux sans doublons\n",
    "data = mnist.data[sample]\n",
    "target = mnist.target[sample]\n",
    "sample = np.random.randint(70000, size=5000)\n",
    "data = mnist.data[sample]\n",
    "target = mnist.target[sample]"
   ]
  },
  {
   "cell_type": "markdown",
   "metadata": {},
   "source": [
    "## SEPARER TRAIN SET ET VAL SET"
   ]
  },
  {
   "cell_type": "code",
   "execution_count": 18,
   "metadata": {},
   "outputs": [],
   "source": [
    "# 0.8 ==> 80% TRAIN SET ET 20% VAL SET\n",
    "from sklearn.model_selection import train_test_split\n",
    "\n",
    "xtrain, xtest, ytrain, ytest = train_test_split(data, target, train_size=0.8)"
   ]
  },
  {
   "cell_type": "markdown",
   "metadata": {},
   "source": [
    "## MODELE KNN"
   ]
  },
  {
   "cell_type": "code",
   "execution_count": 19,
   "metadata": {},
   "outputs": [
    {
     "data": {
      "text/plain": [
       "KNeighborsClassifier(n_neighbors=3)"
      ]
     },
     "execution_count": 19,
     "metadata": {},
     "output_type": "execute_result"
    }
   ],
   "source": [
    "from sklearn import neighbors\n",
    "\n",
    "knn = neighbors.KNeighborsClassifier(n_neighbors=3)\n",
    "knn.fit(xtrain, ytrain)"
   ]
  },
  {
   "cell_type": "markdown",
   "metadata": {},
   "source": [
    "## SCORE"
   ]
  },
  {
   "cell_type": "code",
   "execution_count": 20,
   "metadata": {},
   "outputs": [
    {
     "name": "stdout",
     "output_type": "stream",
     "text": [
      "Erreur: 0.078000\n"
     ]
    }
   ],
   "source": [
    "error = 1 - knn.score(xtest, ytest)\n",
    "print('Erreur: %f' % error)"
   ]
  },
  {
   "cell_type": "markdown",
   "metadata": {},
   "source": [
    "# OPTIMIZATION : recherche K maximal"
   ]
  },
  {
   "cell_type": "code",
   "execution_count": 21,
   "metadata": {},
   "outputs": [
    {
     "data": {
      "image/png": "[encoded data removed]",
      "text/plain": [
       "<Figure size 432x288 with 1 Axes>"
      ]
     },
     "metadata": {
      "needs_background": "light"
     },
     "output_type": "display_data"
    }
   ],
   "source": [
    "errors = []\n",
    "for k in range(2,15):\n",
    "    knn = neighbors.KNeighborsClassifier(k)\n",
    "    errors.append(100*(1 - knn.fit(xtrain, ytrain).score(xtest, ytest)))\n",
    "plt.plot(range(2,15), errors, 'o-')\n",
    "plt.show()\n",
    "#  k = 4 le plus performant"
   ]
  },
  {
   "cell_type": "markdown",
   "metadata": {},
   "source": [
    "## exemple pour le mdèle le plus performant"
   ]
  },
  {
   "cell_type": "code",
   "execution_count": 22,
   "metadata": {
    "scrolled": true
   },
   "outputs": [
    {
     "data": {
      "image/png": "[encoded data removed]",
      "text/plain": [
       "<Figure size 432x288 with 12 Axes>"
      ]
     },
     "metadata": {
      "needs_background": "light"
     },
     "output_type": "display_data"
    }
   ],
   "source": [
    "# On récupère le classifieur le plus performant\n",
    "knn = neighbors.KNeighborsClassifier(4)\n",
    "knn.fit(xtrain, ytrain)\n",
    "\n",
    "# On récupère les prédictions sur les données test\n",
    "predicted = knn.predict(xtest)\n",
    "\n",
    "# On redimensionne les données sous forme d'images\n",
    "images = xtest.reshape((-1, 28, 28))\n",
    "\n",
    "# On selectionne un echantillon de 12 images au hasard\n",
    "select = np.random.randint(images.shape[0], size=12)\n",
    "\n",
    "# On affiche les images avec la prédiction associée\n",
    "fig,ax = plt.subplots(3,4)\n",
    "\n",
    "for index, value in enumerate(select):\n",
    "    plt.subplot(3,4,index+1)\n",
    "    plt.axis('off')\n",
    "    plt.imshow(images[value],cmap=plt.cm.gray_r,interpolation=\"nearest\")\n",
    "    plt.title('Predicted: {}'.format( predicted[value]) )\n",
    "\n",
    "plt.show()"
   ]
  },
  {
   "cell_type": "markdown",
   "metadata": {},
   "source": [
    "## Exemple pour les prédictions erronées"
   ]
  },
  {
   "cell_type": "code",
   "execution_count": 23,
   "metadata": {},
   "outputs": [
    {
     "data": {
      "image/png": "[encoded data removed]",
      "text/plain": [
       "<Figure size 432x288 with 12 Axes>"
      ]
     },
     "metadata": {
      "needs_background": "light"
     },
     "output_type": "display_data"
    }
   ],
   "source": [
    "# on récupère les données mal prédites \n",
    "misclass = (ytest != predicted)\n",
    "misclass_images = images[misclass,:,:]\n",
    "misclass_predicted = predicted[misclass]\n",
    "\n",
    "# on sélectionne un échantillon de ces images\n",
    "select = np.random.randint(misclass_images.shape[0], size=12)\n",
    "\n",
    "# on affiche les images et les prédictions (erronées) associées à ces images\n",
    "for index, value in enumerate(select):\n",
    "    plt.subplot(3,4,index+1)\n",
    "    plt.axis('off')\n",
    "    plt.imshow(misclass_images[value],cmap=plt.cm.gray_r,interpolation=\"nearest\")\n",
    "    plt.title('Predicted: {}'.format(misclass_predicted[value]) )\n",
    "\n",
    "plt.show()"
   ]
  },
  {
   "cell_type": "code",
   "execution_count": null,
   "metadata": {},
   "outputs": [],
   "source": []
  }
 ],
 "metadata": {
  "kernelspec": {
   "display_name": "Python 3",
   "language": "python",
   "name": "python3"
  },
  "language_info": {
   "codemirror_mode": {
    "name": "ipython",
    "version": 3
   },
   "file_extension": ".py",
   "mimetype": "text/x-python",
   "name": "python",
   "nbconvert_exporter": "python",
   "pygments_lexer": "ipython3",
   "version": "3.8.5"
  }
 },
 "nbformat": 4,
 "nbformat_minor": 4
}
