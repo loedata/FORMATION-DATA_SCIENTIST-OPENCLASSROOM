{
 "cells": [
  {
   "cell_type": "markdown",
   "metadata": {},
   "source": [
    "### Introduction\n",
    "\n",
    "L'objet de ce TP est de ré-implémenter la fonction de recherche sur grille de la librairie scikit-learn (la fonction model_selection.GridSearchCV), dans l’objectif d’effectuer la classification du dataset sur la qualité du vin.<br>\n",
    "Les deux premières parties de ce document correspondent au TP du cours. C'est seulement à la troisième qu'on ilustrera le fonctionnement de la fonction de recherche sur grille ré-implémentée.\n",
    "- **Première partie** (TP du cours) : Analyse et traitement préliminaire des données.\n",
    "- **Deuxième partie** (TP du cours) : Sélection d'un modèle via la fonction GridSearchCV de Scikit-learn. \n",
    "- **Troisième partie** : Sélection d'un modèle via la fonction de recherche sur grille ré-implémentée, qu'on appellera la fonction *maison*. \n",
    "\n",
    "NB : Le code de la fonction ré-implémentée se trouve dans le fichier **selection_grille_maison.py** joint à ce devoir.\n",
    "\n",
    "### I. Exploration et traitement préliminaire des données - TP du cours"
   ]
  },
  {
   "cell_type": "code",
   "execution_count": 13,
   "metadata": {},
   "outputs": [],
   "source": [
    "import pandas as pd\n",
    "import numpy as np\n",
    "import matplotlib.pyplot as plt\n",
    "data = pd.read_csv('winequality-white.csv', sep=\";\")"
   ]
  },
  {
   "cell_type": "code",
   "execution_count": 14,
   "metadata": {},
   "outputs": [
    {
     "name": "stderr",
     "output_type": "stream",
     "text": [
      "/home/lea/anaconda3/lib/python3.7/site-packages/ipykernel_launcher.py:1: FutureWarning: Method .as_matrix will be removed in a future version. Use .values instead.\n",
      "  \"\"\"Entry point for launching an IPython kernel.\n",
      "/home/lea/anaconda3/lib/python3.7/site-packages/ipykernel_launcher.py:2: FutureWarning: Method .as_matrix will be removed in a future version. Use .values instead.\n",
      "  \n"
     ]
    }
   ],
   "source": [
    "X = data.as_matrix(data.columns[:-1])\n",
    "y = data.as_matrix([data.columns[-1]])\n",
    "y = y.flatten()"
   ]
  },
  {
   "cell_type": "code",
   "execution_count": 15,
   "metadata": {},
   "outputs": [],
   "source": [
    "y_class = np.where(y < 6, 0, 1)"
   ]
  },
  {
   "cell_type": "code",
   "execution_count": 21,
   "metadata": {},
   "outputs": [],
   "source": [
    "from sklearn import model_selection\n",
    "\n",
    "# 30% des données dans le jeu de test\n",
    "X_train, X_test, y_train, y_test = model_selection.train_test_split(X, y_class,test_size=0.3)"
   ]
  },
  {
   "cell_type": "code",
   "execution_count": 28,
   "metadata": {},
   "outputs": [],
   "source": [
    "from sklearn import preprocessing\n",
    "std_scale = preprocessing.StandardScaler().fit(X_train)\n",
    "X_train_std = std_scale.transform(X_train)\n",
    "X_test_std = std_scale.transform(X_test)"
   ]
  },
  {
   "cell_type": "markdown",
   "metadata": {},
   "source": [
    "### II. Choix des paramètres via model_selection.GridSearchCV - TP du cours"
   ]
  },
  {
   "cell_type": "code",
   "execution_count": 29,
   "metadata": {},
   "outputs": [
    {
     "name": "stdout",
     "output_type": "stream",
     "text": [
      "Meilleur(s) hyperparamètre(s) sur le jeu d'entraînement pour model_selection.gridSearchCV:\n",
      "{'n_neighbors': 3}\n",
      "Résultats de la recherche sur grille en utilisant model_selection.gridSearchCV:\n",
      "\taccuracy = 0.767 (+/-0.023) for {'n_neighbors': 3}\n",
      "\taccuracy = 0.760 (+/-0.012) for {'n_neighbors': 5}\n",
      "\taccuracy = 0.759 (+/-0.022) for {'n_neighbors': 7}\n",
      "\taccuracy = 0.759 (+/-0.030) for {'n_neighbors': 9}\n",
      "\taccuracy = 0.757 (+/-0.043) for {'n_neighbors': 11}\n",
      "\taccuracy = 0.756 (+/-0.041) for {'n_neighbors': 13}\n",
      "\taccuracy = 0.758 (+/-0.027) for {'n_neighbors': 15}\n"
     ]
    }
   ],
   "source": [
    "from sklearn import neighbors, metrics\n",
    "\n",
    "# Fixer les valeurs des hyperparamètres à tester\n",
    "param_grid = {'n_neighbors':[3, 5, 7, 9, 11, 13, 15]}\n",
    "\n",
    "# Choisir un score à optimiser, ici l'accuracy (proportion de prédictions correctes)\n",
    "score = 'accuracy'\n",
    "\n",
    "# Créer un classifieur kNN avec recherche d'hyperparamètre par validation croisée\n",
    "clf_skl = model_selection.GridSearchCV(neighbors.KNeighborsClassifier(), # un classifieur kNN\n",
    "                 param_grid,                                             # hyperparamètres à tester\n",
    "                 cv=model_selection.KFold(n_splits=5,shuffle=False),     # nb de folds de validation croisée\n",
    "                 scoring=score                                           # score à optimiser\n",
    "             )\n",
    "\n",
    "\n",
    "# Optimiser ce classifieur sur le jeu d'entraînement\n",
    "clf_skl.fit(X_train_std, y_train)\n",
    "\n",
    "# Afficher le(s) hyperparamètre(s) optimaux\n",
    "print(\"Meilleur(s) hyperparamètre(s) sur le jeu d'entraînement pour model_selection.gridSearchCV:\")\n",
    "print(clf_skl.best_params_)\n",
    "\n",
    "# Afficher les performances correspondantes\n",
    "print(\"Résultats de la recherche sur grille en utilisant model_selection.gridSearchCV:\")\n",
    "for mean, std, params in zip(clf_skl.cv_results_['mean_test_score'], # score moyen\n",
    "                             clf_skl.cv_results_['std_test_score'],  # écart-type du score\n",
    "                             clf_skl.cv_results_['params']           # valeur de l'hyperparamètre\n",
    "                            ):\n",
    "    print(\"\\t%s = %0.3f (+/-%0.03f) for %r\" \n",
    "        % (score,    # critère utilisé\n",
    "            mean,    # score moyen\n",
    "            std * 2, # barre d'erreur\n",
    "            params   # hyperparamètre\n",
    "        ))"
   ]
  },
  {
   "cell_type": "code",
   "execution_count": 30,
   "metadata": {},
   "outputs": [
    {
     "name": "stdout",
     "output_type": "stream",
     "text": [
      "\n",
      "Sur le jeu de test, avec la fonction de scikit-learn : 0.756\n"
     ]
    }
   ],
   "source": [
    "y_pred = clf_skl.predict(X_test_std)\n",
    "print(\"\\nSur le jeu de test, avec la fonction de scikit-learn : %0.3f\" % metrics.accuracy_score(y_test, y_pred))"
   ]
  },
  {
   "cell_type": "markdown",
   "metadata": {},
   "source": [
    "### III. Choix des paramètres via une fonction de recherche sur grille \"maison\""
   ]
  },
  {
   "cell_type": "code",
   "execution_count": 42,
   "metadata": {},
   "outputs": [],
   "source": [
    "import selection_grille_maison as sg_maison"
   ]
  },
  {
   "cell_type": "code",
   "execution_count": 43,
   "metadata": {
    "scrolled": true
   },
   "outputs": [
    {
     "name": "stdout",
     "output_type": "stream",
     "text": [
      "Meilleur(s) hyperparamètre(s) sur le jeu d'entraînement pour la fonction 'maison':\n",
      "{'n_neighbors': 3}\n",
      "Résultats de la recherche sur grille en utilisant la fonction 'maison' :\n",
      "\taccuracy = 0.767 (+/-0.023) for {'n_neighbors': 3}\n",
      "\taccuracy = 0.760 (+/-0.012) for {'n_neighbors': 5}\n",
      "\taccuracy = 0.759 (+/-0.022) for {'n_neighbors': 7}\n",
      "\taccuracy = 0.759 (+/-0.030) for {'n_neighbors': 9}\n",
      "\taccuracy = 0.757 (+/-0.043) for {'n_neighbors': 11}\n",
      "\taccuracy = 0.756 (+/-0.041) for {'n_neighbors': 13}\n",
      "\taccuracy = 0.758 (+/-0.027) for {'n_neighbors': 15}\n"
     ]
    }
   ],
   "source": [
    "from sklearn import neighbors, metrics\n",
    "\n",
    "# Fixer les valeurs des hyperparamètres à tester\n",
    "param_grid = {'n_neighbors':[3, 5, 7, 9, 11, 13, 15]}\n",
    "\n",
    "score = 'accuracy'\n",
    "\n",
    "# Appel de la nouvelle fonction de sélection sur grille\n",
    "clf_maison = sg_maison.Selection_Grille(neighbors.KNeighborsClassifier(), # un classifieur kNN\n",
    "                                        param_grid, # hyperparamètres à tester\n",
    "                                        cv=5 # nombre de folds de validation croisée\n",
    "                                    )\n",
    "\n",
    "clf_maison.fit(X_train_std, y_train)\n",
    "\n",
    "# Afficher le(s) hyperparamètre(s) optimaux\n",
    "print(\"Meilleur(s) hyperparamètre(s) sur le jeu d'entraînement pour la fonction 'maison':\")\n",
    "print(clf_maison.best_params_)\n",
    "\n",
    "# Afficher les performances correspondantes\n",
    "print(\"Résultats de la recherche sur grille en utilisant la fonction 'maison' :\")\n",
    "for mean, std, params in zip(clf_maison.cv_results_['mean_test_score'], # score moyen\n",
    "                             clf_maison.cv_results_['std_test_score'], # écart-type du score\n",
    "                             clf_maison.cv_results_['params'] # valeur de l'hyperparamètre\n",
    "                            ):\n",
    "    print(\"\\t%s = %0.3f (+/-%0.03f) for %r\" \n",
    "        % (score, # critère utilisé\n",
    "            mean, # score moyen\n",
    "            std * 2, # barre d'erreur\n",
    "            params # hyperparamètre\n",
    "        ))"
   ]
  },
  {
   "cell_type": "code",
   "execution_count": 44,
   "metadata": {},
   "outputs": [
    {
     "name": "stdout",
     "output_type": "stream",
     "text": [
      "\n",
      "Sur le jeu de test, avec la fonction 'maison' : 0.756\n"
     ]
    }
   ],
   "source": [
    "y_pred = clf_maison.predict(X_test_std)\n",
    "print(\"\\nSur le jeu de test, avec la fonction 'maison' : %0.3f\" % metrics.accuracy_score(y_test, y_pred))"
   ]
  },
  {
   "cell_type": "markdown",
   "metadata": {},
   "source": [
    "### Conclusion\n",
    "On voit que les résultats sont strictement identiques entre la fonction \"maison\" et la fonction model_selection.GridSearchCV. On a donc bien réussi à la ré-implémenter correctement. "
   ]
  }
 ],
 "metadata": {
  "kernelspec": {
   "display_name": "Python 3",
   "language": "python",
   "name": "python3"
  },
  "language_info": {
   "codemirror_mode": {
    "name": "ipython",
    "version": 3
   },
   "file_extension": ".py",
   "mimetype": "text/x-python",
   "name": "python",
   "nbconvert_exporter": "python",
   "pygments_lexer": "ipython3",
   "version": "3.7.4"
  }
 },
 "nbformat": 4,
 "nbformat_minor": 2
}
