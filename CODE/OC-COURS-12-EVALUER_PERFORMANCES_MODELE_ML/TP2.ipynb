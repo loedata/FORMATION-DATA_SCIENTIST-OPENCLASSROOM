{
 "cells": [
  {
   "cell_type": "markdown",
   "metadata": {},
   "source": [
    "### Introduction\n",
    "\n",
    "L'objectif de ce TP est d'entraîner un modèle permettant de prédire la qualité du vin rouge en fonction de certaines de ses caractéristiques chimiques. \n",
    "\n",
    "Pour cela, on utilisera la version régression du K-nn, dont on choisira le nombre de voisins à l'aide d'une recherche sur grille réimplémentée dans le module **ma_selection_sur_grille.py** ci-joint. La métrique que l'on cherchera à optimiser sera l'erreur quadratique moyenne, mais on observera également le comportement du coefficient de détermination R².\n",
    "\n",
    "Les données que l'on utilisera sont téléchargeables à l'emplacement suivant: https://archive.ics.uci.edu/ml/machine-learning-databases/wine-quality/winequality-red.csv\n",
    "\n",
    "- **Première partie** : Analyse et traitement préliminaire des données.\n",
    "- **Deuxième partie** : Sélection d'un modèle de K-nn via la fonction de recherche sur grille ré-implémentée. \n",
    "- **Troisième partie** : Comparaison des performances du modèle à celles d’une baseline naïve en fonction de différentes heuristiques.\n",
    "\n",
    "\n",
    "### I. Exploration et traitement préliminaire des données "
   ]
  },
  {
   "cell_type": "code",
   "execution_count": 1,
   "metadata": {},
   "outputs": [
    {
     "name": "stdout",
     "output_type": "stream",
     "text": [
      "Le dataset contient 1599 observations et 12 variables.\n",
      "\n",
      "Les variables présentes dans le dataset sont les suivantes:\n",
      "\t- fixed acidity\n",
      "\t- volatile acidity\n",
      "\t- citric acid\n",
      "\t- residual sugar\n",
      "\t- chlorides\n",
      "\t- free sulfur dioxide\n",
      "\t- total sulfur dioxide\n",
      "\t- density\n",
      "\t- pH\n",
      "\t- sulphates\n",
      "\t- alcohol\n",
      "\t- quality\n",
      "\n"
     ]
    }
   ],
   "source": [
    "import pandas as pd\n",
    "import numpy as np\n",
    "import matplotlib.pyplot as plt\n",
    "\n",
    "# Import des données\n",
    "data = pd.read_csv('winequality-red.csv', sep=\";\")\n",
    "\n",
    "# Exploration rapide\n",
    "m = 'Le dataset contient {0} observations et {1} variables.\\n'\n",
    "print(m.format(data.shape[0], data.shape[1]))\n",
    "\n",
    "m = 'Les variables présentes dans le dataset sont les suivantes:\\n'\n",
    "for feature in list(data.columns):\n",
    "    m += '\\t- ' + feature + '\\n'\n",
    "print(m)\n",
    "\n",
    "# La variable que l'on cherche à prédire est la dernière : 'quality'\n",
    "X = data[data.columns[:-1]]\n",
    "y = data[data.columns[-1]]"
   ]
  },
  {
   "cell_type": "code",
   "execution_count": 2,
   "metadata": {},
   "outputs": [],
   "source": [
    "from sklearn import model_selection\n",
    "\n",
    "# On divise les données du dataset en un jeu d'entraînement et un jeu de test\n",
    "# 30% des données dans le jeu de test\n",
    "X_train, X_test, y_train, y_test = model_selection.train_test_split(X, y,test_size=0.3)"
   ]
  },
  {
   "cell_type": "code",
   "execution_count": 3,
   "metadata": {},
   "outputs": [],
   "source": [
    "from sklearn import preprocessing\n",
    "std_scale = preprocessing.StandardScaler().fit(X_train)\n",
    "X_train_std = std_scale.transform(X_train)\n",
    "X_test_std = std_scale.transform(X_test)"
   ]
  },
  {
   "cell_type": "markdown",
   "metadata": {},
   "source": [
    "### II. Choix du meilleur hyperparamètre pour un classifieur K-nn sur le train set\n",
    "Dans cette partie:\n",
    "\n",
    "- On choisira l'hyperparamètre du modèle K-nn, c'est-à-dire le nombre de voisins considérés pour effectuer la prédiction, via une fonction de recherche sur grille ré-implémentée. <br>NB : cette fonction a déjà été comparée à la recherche de scikit-learn model_selection.GridSearchCV dans un TP précédent, afin de montrer qu'elle en reproduisait correctement le fonctionnement.<br><br>\n",
    "\n",
    "- Le choix final s'effectuera en optimisant l'erreur quadratique moyenne, mais on considérera aussi le coefficient de détermination R². On tentera de comparer les variations de ces deux grandeurs en fonction du nombre de voisins considérés. "
   ]
  },
  {
   "cell_type": "code",
   "execution_count": 4,
   "metadata": {},
   "outputs": [],
   "source": [
    "from ma_selection_sur_grille import Selection_Grille"
   ]
  },
  {
   "cell_type": "code",
   "execution_count": 5,
   "metadata": {
    "scrolled": false
   },
   "outputs": [
    {
     "name": "stdout",
     "output_type": "stream",
     "text": [
      "Meilleur hyperparamètre sur le jeu d'entraînement pour la métrique MSE:\n",
      "\t{'n_neighbors': 25}\n",
      "\n",
      "Résultats de la recherche sur grille pour la métrique MSE:\n",
      "\tmse = 0.512 (+/-0.060) for {'n_neighbors': 3}\n",
      "\tmse = 0.477 (+/-0.038) for {'n_neighbors': 5}\n",
      "\tmse = 0.462 (+/-0.039) for {'n_neighbors': 7}\n",
      "\tmse = 0.453 (+/-0.032) for {'n_neighbors': 9}\n",
      "\tmse = 0.451 (+/-0.034) for {'n_neighbors': 11}\n",
      "\tmse = 0.443 (+/-0.026) for {'n_neighbors': 13}\n",
      "\tmse = 0.444 (+/-0.025) for {'n_neighbors': 15}\n",
      "\tmse = 0.445 (+/-0.025) for {'n_neighbors': 17}\n",
      "\tmse = 0.442 (+/-0.027) for {'n_neighbors': 19}\n",
      "\tmse = 0.444 (+/-0.026) for {'n_neighbors': 21}\n",
      "\tmse = 0.442 (+/-0.027) for {'n_neighbors': 23}\n",
      "\tmse = 0.441 (+/-0.033) for {'n_neighbors': 25}\n",
      "\tmse = 0.442 (+/-0.032) for {'n_neighbors': 27}\n",
      "\tmse = 0.443 (+/-0.029) for {'n_neighbors': 29}\n"
     ]
    }
   ],
   "source": [
    "from sklearn import neighbors, metrics\n",
    "\n",
    "# Fixer les valeurs des hyperparamètres à tester\n",
    "param_grid = {'n_neighbors':[3, 5, 7, 9, 11, 13, 15, 17, 19, 21, 23, 25, 27, 29]}\n",
    "model = neighbors.KNeighborsRegressor()\n",
    "score = 'mse'\n",
    "\n",
    "# Appel de la nouvelle fonction de sélection sur grille\n",
    "clf_mse = Selection_Grille(model,         # un classifieur kNN\n",
    "                           param_grid,    # hyperparamètres à tester\n",
    "                           cv=5,          # nombre de folds\n",
    "                           score=score    # quantité à optimiser\n",
    "                      )\n",
    "\n",
    "clf_mse.fit(X_train_std, y_train)\n",
    "\n",
    "# Afficher le(s) hyperparamètre(s) optimaux\n",
    "m = \"Meilleur hyperparamètre sur le jeu d'entraînement pour la métrique MSE:\\n\\t{0}\\n\"\n",
    "print(m.format(clf_mse.best_params_))\n",
    "\n",
    "# Afficher les performances correspondantes\n",
    "print(\"Résultats de la recherche sur grille pour la métrique MSE:\")\n",
    "for mean, std, params in zip(clf_mse.cv_results_['mean_test_score'], # score moyen\n",
    "                             clf_mse.cv_results_['std_test_score'],  # écart-type \n",
    "                             clf_mse.cv_results_['params']           # hyperparamètre\n",
    "                            ):\n",
    "    m = \"\\t{0} = {1:0.3f} (+/-{2:0.03f}) for {3}\" \n",
    "    print(m.format(score,      # critère utilisé\n",
    "                   mean,       # score moyen\n",
    "                   std * 2,    # barre d'erreur\n",
    "                   params      # hyperparamètre\n",
    "                ))\n",
    "    "
   ]
  },
  {
   "cell_type": "code",
   "execution_count": 6,
   "metadata": {},
   "outputs": [
    {
     "name": "stdout",
     "output_type": "stream",
     "text": [
      "Erreur quadratique moyenne obtenue sur le jeu de test en optimisant MSE : 0.428\n"
     ]
    }
   ],
   "source": [
    "y_pred_mse = clf_mse.predict(X_test_std)\n",
    "m = \"Erreur quadratique moyenne obtenue sur le jeu de test en optimisant MSE : {0:0.3f}\"\n",
    "print(m.format(metrics.mean_squared_error(y_test, y_pred_mse)))"
   ]
  },
  {
   "cell_type": "code",
   "execution_count": 7,
   "metadata": {},
   "outputs": [
    {
     "name": "stdout",
     "output_type": "stream",
     "text": [
      "Meilleur hyperparamètre sur le jeu d'entraînement pour la métrique R²:\n",
      "\t{'n_neighbors': 25}\n",
      "\n",
      "Résultats de la recherche sur grille pour la métrique R²:\n",
      "\tR2 = 0.212 (+/-0.211) for {'n_neighbors': 3}\n",
      "\tR2 = 0.268 (+/-0.164) for {'n_neighbors': 5}\n",
      "\tR2 = 0.293 (+/-0.115) for {'n_neighbors': 7}\n",
      "\tR2 = 0.307 (+/-0.106) for {'n_neighbors': 9}\n",
      "\tR2 = 0.310 (+/-0.103) for {'n_neighbors': 11}\n",
      "\tR2 = 0.322 (+/-0.103) for {'n_neighbors': 13}\n",
      "\tR2 = 0.321 (+/-0.109) for {'n_neighbors': 15}\n",
      "\tR2 = 0.320 (+/-0.096) for {'n_neighbors': 17}\n",
      "\tR2 = 0.325 (+/-0.093) for {'n_neighbors': 19}\n",
      "\tR2 = 0.321 (+/-0.092) for {'n_neighbors': 21}\n",
      "\tR2 = 0.324 (+/-0.092) for {'n_neighbors': 23}\n",
      "\tR2 = 0.326 (+/-0.081) for {'n_neighbors': 25}\n",
      "\tR2 = 0.325 (+/-0.083) for {'n_neighbors': 27}\n",
      "\tR2 = 0.323 (+/-0.089) for {'n_neighbors': 29}\n"
     ]
    }
   ],
   "source": [
    "# On relance la recherche précédente avec la métrique 'coefficient de détermination'\n",
    "score = 'R2'\n",
    "\n",
    "# Appel de la nouvelle fonction de sélection sur grille\n",
    "clf_R2 = Selection_Grille(model,         # un classifieur kNN\n",
    "                          param_grid,    # hyperparamètres à tester\n",
    "                          cv=5,          # nombre de folds\n",
    "                          score=score    # quantité à optimiser\n",
    "                         )\n",
    "\n",
    "clf_R2.fit(X_train_std, y_train)\n",
    "\n",
    "# On vérifie que les deux méthodes d'évaluation aboutissent au même choix:\n",
    "m = \"Meilleur hyperparamètre sur le jeu d'entraînement pour la métrique R²:\\n\\t{0}\\n\"\n",
    "print(m.format(clf_R2.best_params_))\n",
    "\n",
    "# Afficher les performances correspondantes\n",
    "print(\"Résultats de la recherche sur grille pour la métrique R²:\")\n",
    "for mean, std, params in zip(clf_R2.cv_results_['mean_test_score'], # score moyen\n",
    "                             clf_R2.cv_results_['std_test_score'],  # écart-type \n",
    "                             clf_R2.cv_results_['params']           # hyperparamètre\n",
    "                            ):\n",
    "    m = \"\\t{0} = {1:0.3f} (+/-{2:0.03f}) for {3}\" \n",
    "    print(m.format(score,       # critère utilisé\n",
    "                   mean,        # score moyen\n",
    "                   std * 2,     # barre d'erreur\n",
    "                   params       # hyperparamètre\n",
    "                ))"
   ]
  },
  {
   "cell_type": "code",
   "execution_count": 8,
   "metadata": {},
   "outputs": [
    {
     "data": {
      "image/png": "[encoded data removed]",
      "text/plain": [
       "<Figure size 630x420 with 1 Axes>"
      ]
     },
     "metadata": {
      "needs_background": "light"
     },
     "output_type": "display_data"
    }
   ],
   "source": [
    "# On compare maintenant les variations de l'erreur quadratique moyenne\n",
    "# à celles du coefficient de détermination en fonction du nombre\n",
    "# de voisins considérés.\n",
    "\n",
    "# On trace pour cela un graphe des deux grandeurs, MSE en rouge et R² en bleu. \n",
    "# On entoure sur le graphe la valeur optimale sélectionnée par la recherche sur grille. \n",
    "# - Pour l'erreur quadratique moyenne, il s'agira de la plus petite.\n",
    "# - Pour R², il s'agira de la plus grande.\n",
    "# On vérifie que ces valeurs sont atteintes pour le même nombre de voisins.\n",
    "\n",
    "def plot_scores_classifier(classifieur, couleur, label):\n",
    "    \"\"\"\n",
    "    Fonction utilitaire permettant de tracer les valeurs prises \n",
    "    par une métrique (MSE ou R²) en fonction du nombre de voisins.\n",
    "    \"\"\"\n",
    "    nb_voisins = [str(t['n_neighbors']) for t in classifieur.cv_results_['params'] ]\n",
    "    scores = classifieur.cv_results_['mean_test_score']\n",
    "    plt.scatter(nb_voisins, scores, color=couleur, label=label)\n",
    "\n",
    "    # On entoure la meilleure valeur\n",
    "    nb_optimal = classifieur.best_params_['n_neighbors']\n",
    "    \n",
    "    plt.scatter([str(nb_optimal)], \n",
    "                [scores[int((nb_optimal-3)/2)]], \n",
    "                edgecolors=couleur,\n",
    "                facecolors='none',\n",
    "                s=300 )\n",
    "\n",
    "def plot_graph():\n",
    "    plt.figure(figsize=(9, 6), dpi=70)\n",
    "    plot_scores_classifier(clf_mse, 'magenta', 'Erreur quadratique moyenne')\n",
    "    plot_scores_classifier(clf_R2, 'deepskyblue', 'Coefficient de détermination R²')\n",
    "    plt.xlabel('Nombre de voisins')\n",
    "    plt.ylabel('Score du K-nn')\n",
    "    title = 'Evolution de R² et de MSE pour un K-nn en fonction du nombre de voisins.'\n",
    "    plt.title(title)\n",
    "    plt.legend()\n",
    "\n",
    "plot_graph()"
   ]
  },
  {
   "cell_type": "markdown",
   "metadata": {},
   "source": [
    "L'optimisation du modèle K-nn peut donc se faire indifféremment en maximisant le coefficient de détermination *R²* ou en minimisant l'erreur quadratique moyenne *MSE*. Ce n'est pas surprenant étant de donné que ces deux grandeurs sont reliées par la formule suivante: <br>\n",
    "\\begin{equation*}\n",
    "R² \\approx 1 - \\frac{mse}{\\sigma_y^2} \n",
    "\\end{equation*}\n"
   ]
  },
  {
   "cell_type": "code",
   "execution_count": 9,
   "metadata": {},
   "outputs": [
    {
     "data": {
      "image/png": "[encoded data removed]",
      "text/plain": [
       "<Figure size 630x420 with 1 Axes>"
      ]
     },
     "metadata": {
      "needs_background": "light"
     },
     "output_type": "display_data"
    }
   ],
   "source": [
    "# Montrons que la formule ci-dessus est vérifiée dans notre cas.\n",
    "mse = clf_mse.cv_results_['mean_test_score']\n",
    "R2 = clf_R2.cv_results_['mean_test_score']\n",
    "n = len(mse)\n",
    "\n",
    "std_deviation = np.std(y_train)\n",
    "\n",
    "# On calcule pour chaque nombre de voisin le membre de droite de la formule\n",
    "formule = [ (1. - (mse[t]/std_deviation**2)) for t in range(n)]\n",
    "\n",
    "# On affiche le membre de droite de la formule en bleu foncé sur le graphe précédent\n",
    "plot_graph()\n",
    "\n",
    "nb_voisins = [str(t['n_neighbors']) for t in clf_mse.cv_results_['params']]\n",
    "\n",
    "plt.scatter(nb_voisins, formule, \n",
    "            edgecolors='mediumblue', \n",
    "            facecolors='none', \n",
    "            label='Approximation de R²')\n",
    "\n",
    "l = plt.legend()"
   ]
  },
  {
   "cell_type": "markdown",
   "metadata": {},
   "source": [
    "### III. Comparaison des performances à celles de baselines naïves\n",
    "\n",
    "On compare notre modèle aux approches naïves suivantes:\n",
    "- Prédiction aléatoire dans l'espace des valeurs de y_train\n",
    "- Prédiction constante égale à la moyenne des valeurs de y_train\n",
    "\n",
    "On compare les modèles via les heuristiques suivantes:\n",
    "- **MSE**:   Erreur quadratique moyenne.\n",
    "- **RMSE**:  Racine carrée de l'erreur quadratique moyenne.\n",
    "- **RSS**:   Somme des carrés des résidus.\n",
    "- **RSE**:   Erreur carrée relative: RSE = RSS/SST, où SST est la somme des carrés des distances à la moyenne.\n",
    "- **-R²**: Opposé du coefficient de détermination. On multiplie R² par -1 afin qu'il soit optimisable par minimisation comme les autres métriques du dictionnaire."
   ]
  },
  {
   "cell_type": "code",
   "execution_count": 10,
   "metadata": {},
   "outputs": [
    {
     "name": "stdout",
     "output_type": "stream",
     "text": [
      "           random    constant        k-nn        best\n",
      "mse      2.897917    0.630588    0.427857    0.427857\n",
      "rmse     1.702327    0.794096    0.654108    0.654108\n",
      "rss   1391.000000  302.682266  205.371200  205.371200\n",
      "rse      4.595578    1.000000    0.678504    0.678504\n",
      "-r2      3.601675    0.001327   -0.320596   -0.320596\n"
     ]
    }
   ],
   "source": [
    "model_comparison = dict()\n",
    "mean_train = np.mean(y_train)\n",
    "prediction_main = [mean_train for t in range(len(y_test))]\n",
    "nt = len(y_test)\n",
    "    \n",
    "def add_model_scores(model, prediction):\n",
    "    \"\"\"\n",
    "    Ajouter un modèle au dictionnaire model_comparison.\n",
    "    \"\"\"    \n",
    "    # On calcule les grandeurs nécessaires pour obtenir l'erreur carrée relative (RSE)\n",
    "    rss = nt * metrics.mean_squared_error(y_test, prediction)\n",
    "    sst = nt * metrics.mean_squared_error(y_test, prediction_main)\n",
    "    rse =  rss / sst    \n",
    "    \n",
    "    model_comparison[model] = {'mse': metrics.mean_squared_error(y_test, prediction),\n",
    "                               'rmse': np.sqrt(metrics.mean_squared_error(y_test, prediction)),\n",
    "                               'rss': rss,\n",
    "                               'rse': rse,\n",
    "                               '-r2': -metrics.r2_score(y_test, prediction)}\n",
    "    \n",
    "y_pred_random = np.random.randint(np.min(y_train), np.max(y_train), y_test.shape)\n",
    "\n",
    "add_model_scores('random', y_pred_random)\n",
    "add_model_scores('constant', prediction_main)\n",
    "add_model_scores('k-nn', y_pred_mse)\n",
    "\n",
    "df = pd.DataFrame(model_comparison)\n",
    "df['best'] = df.min(axis=1)\n",
    "\n",
    "print(df)"
   ]
  },
  {
   "cell_type": "markdown",
   "metadata": {},
   "source": [
    "### Conclusion\n",
    "On voit dans la grille ci-dessus que, pour toutes les heuristiques considérées, le modèle k-nn optimisé grâce à la recherche sur grille est meilleur que les deux modèles naïfs présentés. "
   ]
  }
 ],
 "metadata": {
  "kernelspec": {
   "display_name": "thebestenv",
   "language": "python",
   "name": "thebestenv"
  },
  "language_info": {
   "codemirror_mode": {
    "name": "ipython",
    "version": 3
   },
   "file_extension": ".py",
   "mimetype": "text/x-python",
   "name": "python",
   "nbconvert_exporter": "python",
   "pygments_lexer": "ipython3",
   "version": "3.7.4"
  }
 },
 "nbformat": 4,
 "nbformat_minor": 2
}
