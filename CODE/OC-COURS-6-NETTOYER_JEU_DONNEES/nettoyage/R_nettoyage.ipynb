{
 "cells": [
  {
   "cell_type": "code",
   "execution_count": 363,
   "metadata": {
    "collapsed": false
   },
   "outputs": [
    {
     "name": "stdout",
     "output_type": "stream",
     "text": [
      "  prenom                                  email date_naissance          pays\n",
      "1  Leila                      leila@example.com     23/01/1990        France\n",
      "2 Samuel                 samuel_329@example.com     20/09/2001              \n",
      "3  Radia               choupipoune@supermail.eu  12 sept. 1984 Côte d'ivoire\n",
      "4   Marc marco23@example.com, mc23@supermail.eu     10/02/1978        France\n",
      "5   Heri                helloworld@supermail.eu     05/03/2008    Madagascar\n",
      "6  Hanna                 hanna2019@supermail.eu     01/01/1970            24\n",
      "7 samuël                 samuel_329@example.com                        Bénin\n",
      "  taille\n",
      "1  1.49m\n",
      "2  1.67m\n",
      "3  153cm\n",
      "4  1.65m\n",
      "5  1.34m\n",
      "6  3.45m\n",
      "7  1.45m\n"
     ]
    }
   ],
   "source": [
    "data = read.csv(\"personnes.csv\")\n",
    "print(data)"
   ]
  },
  {
   "cell_type": "code",
   "execution_count": 364,
   "metadata": {
    "collapsed": false
   },
   "outputs": [
    {
     "name": "stdout",
     "output_type": "stream",
     "text": [
      "[1] \"Voici la valeur que je traite: Leila\"\n",
      "[1] \"Voici la valeur que je traite: Samuel\"\n",
      "[1] \"Voici la valeur que je traite: Radia\"\n",
      "[1] \"Voici la valeur que je traite: Marc\"\n",
      "[1] \"Voici la valeur que je traite: Heri\"\n",
      "[1] \"Voici la valeur que je traite: Hanna\"\n",
      "[1] \"Voici la valeur que je traite: samuël\"\n"
     ]
    }
   ],
   "source": [
    "lower_case = function(value){\n",
    "    print(paste('Voici la valeur que je traite:', value))\n",
    "    return(tolower(value))\n",
    "}\n",
    "\n",
    "data['prenom_min'] = apply(data['prenom'],1,lower_case)"
   ]
  },
  {
   "cell_type": "code",
   "execution_count": 365,
   "metadata": {
    "collapsed": true
   },
   "outputs": [],
   "source": [
    "data['prenom_min'] = NULL"
   ]
  },
  {
   "cell_type": "code",
   "execution_count": 366,
   "metadata": {
    "collapsed": true
   },
   "outputs": [],
   "source": [
    "VALID_COUNTRIES = c('France', \"Côte d'ivoire\", 'Madagascar', 'Bénin', 'Allemagne', 'USA')"
   ]
  },
  {
   "cell_type": "code",
   "execution_count": 367,
   "metadata": {
    "collapsed": false
   },
   "outputs": [],
   "source": [
    "check_country = function(country){\n",
    "    if(! country %in% VALID_COUNTRIES){\n",
    "        print(sprintf(' - \"%s\" n\\'est pas un pays valide, nous le supprimons.',country))\n",
    "        return(NA)\n",
    "    }\n",
    "    return (country)\n",
    "}"
   ]
  },
  {
   "cell_type": "code",
   "execution_count": 368,
   "metadata": {
    "collapsed": true
   },
   "outputs": [],
   "source": [
    "first = function(str){\n",
    "    str = str[[1]]\n",
    "    parts = strsplit(str,',')[[1]]\n",
    "    first_part = parts[1]\n",
    "    if(length(parts) >= 2)\n",
    "        print(sprintf(' - Il y a plusieurs parties dans \"%s\", ne gardons que %s.',paste(parts,collapse=\"\"),first_part))  \n",
    "    return(first_part)\n",
    "}"
   ]
  },
  {
   "cell_type": "code",
   "execution_count": 369,
   "metadata": {
    "collapsed": false
   },
   "outputs": [],
   "source": [
    "convert_height = function(height){\n",
    "    found = regmatches(height, regexpr(\"[[:digit:]]\\\\.[[:digit:]]{2}m\", height)) \n",
    "    if(length(found)==0){\n",
    "        print(paste(height, ' n\\'est pas au bon format. Il sera ignoré.'))\n",
    "        return(NA)\n",
    "    }else{\n",
    "        value = substring(height,1,nchar(height)-1) # on enlève le dernier caractère, qui est 'm'\n",
    "        return(as.numeric(value))\n",
    "    }\n",
    "}\n",
    "\n",
    "fill_height = function(height, replacement){\n",
    "    if(is.na(height)){\n",
    "        print(paste('Imputation par la moyenne :', replacement))\n",
    "        return(replacement)\n",
    "    }\n",
    "    return(height)\n",
    "}"
   ]
  },
  {
   "cell_type": "code",
   "execution_count": 370,
   "metadata": {
    "collapsed": false
   },
   "outputs": [
    {
     "name": "stdout",
     "output_type": "stream",
     "text": [
      "[1] \" - Il y a plusieurs parties dans \\\"marco23@example.com mc23@supermail.eu\\\", ne gardons que marco23@example.com.\"\n",
      "[1] \" - \\\"\\\" n'est pas un pays valide, nous le supprimons.\"\n",
      "[1] \" - \\\"24\\\" n'est pas un pays valide, nous le supprimons.\"\n",
      "[1] \"153cm  n'est pas au bon format. Il sera ignoré.\"\n",
      "[1] \"Imputation par la moyenne : 1.52\"\n",
      "[1] \"Imputation par la moyenne : 1.52\"\n"
     ]
    }
   ],
   "source": [
    "data['email'] = apply(data['email'], 1, first)\n",
    "data['pays'] = apply(data['pays'], 1, check_country)\n",
    "data['taille'] = apply(data['taille'],1,convert_height) \n",
    "data['taille'] = apply(data['taille'], 1, function(t) if(!is.na(t) & t<3){t}else{NA})\n",
    "\n",
    "mean_height = mean(as.numeric(data$taille), na.rm=TRUE)\n",
    "for(i in 1:nrow(data))\n",
    "    data[i,'taille'] = fill_height(data[i,'taille'], mean_height)\n",
    "data[\"date_naissance\"] = as.Date(data$date_naissance , \"%d/%m/%Y\")"
   ]
  },
  {
   "cell_type": "code",
   "execution_count": 371,
   "metadata": {
    "collapsed": false
   },
   "outputs": [
    {
     "data": {
      "text/html": [
       "<table>\n",
       "<thead><tr><th scope=col>prenom</th><th scope=col>email</th><th scope=col>date_naissance</th><th scope=col>pays</th><th scope=col>taille</th></tr></thead>\n",
       "<tbody>\n",
       "\t<tr><td>Leila                   </td><td>leila@example.com       </td><td>1990-01-23              </td><td>France                  </td><td>1.49                    </td></tr>\n",
       "\t<tr><td>Samuel                  </td><td>samuel_329@example.com  </td><td>2001-09-20              </td><td>NA                      </td><td>1.67                    </td></tr>\n",
       "\t<tr><td>Radia                   </td><td>choupipoune@supermail.eu</td><td>NA                      </td><td>Côte d'ivoire           </td><td>1.52                    </td></tr>\n",
       "\t<tr><td>Marc                    </td><td>marco23@example.com     </td><td>1978-02-10              </td><td>France                  </td><td>1.65                    </td></tr>\n",
       "\t<tr><td>Heri                    </td><td>helloworld@supermail.eu </td><td>2008-03-05              </td><td>Madagascar              </td><td>1.34                    </td></tr>\n",
       "\t<tr><td>Hanna                   </td><td>hanna2019@supermail.eu  </td><td>1970-01-01              </td><td>NA                      </td><td>1.52                    </td></tr>\n",
       "\t<tr><td>samuël                  </td><td>samuel_329@example.com  </td><td>NA                      </td><td>Bénin                   </td><td>1.45                    </td></tr>\n",
       "</tbody>\n",
       "</table>\n"
      ],
      "text/latex": [
       "\\begin{tabular}{r|lllll}\n",
       " prenom & email & date\\_naissance & pays & taille\\\\\n",
       "\\hline\n",
       "\t Leila                    & leila@example.com        & 1990-01-23               & France                   & 1.49                    \\\\\n",
       "\t Samuel                     & samuel\\_329@example.com   & 2001-09-20                 & NA                         & 1.67                      \\\\\n",
       "\t Radia                    & choupipoune@supermail.eu & NA                       & Côte d'ivoire            & 1.52                    \\\\\n",
       "\t Marc                     & marco23@example.com      & 1978-02-10               & France                   & 1.65                    \\\\\n",
       "\t Heri                     & helloworld@supermail.eu  & 2008-03-05               & Madagascar               & 1.34                    \\\\\n",
       "\t Hanna                    & hanna2019@supermail.eu   & 1970-01-01               & NA                       & 1.52                    \\\\\n",
       "\t samuël                     & samuel\\_329@example.com   & NA                         & Bénin                      & 1.45                      \\\\\n",
       "\\end{tabular}\n"
      ],
      "text/markdown": [
       "\n",
       "prenom | email | date_naissance | pays | taille | \n",
       "|---|---|---|---|---|---|---|\n",
       "| Leila                    | leila@example.com        | 1990-01-23               | France                   | 1.49                     | \n",
       "| Samuel                   | samuel_329@example.com   | 2001-09-20               | NA                       | 1.67                     | \n",
       "| Radia                    | choupipoune@supermail.eu | NA                       | Côte d'ivoire            | 1.52                     | \n",
       "| Marc                     | marco23@example.com      | 1978-02-10               | France                   | 1.65                     | \n",
       "| Heri                     | helloworld@supermail.eu  | 2008-03-05               | Madagascar               | 1.34                     | \n",
       "| Hanna                    | hanna2019@supermail.eu   | 1970-01-01               | NA                       | 1.52                     | \n",
       "| samuël                   | samuel_329@example.com   | NA                       | Bénin                    | 1.45                     | \n",
       "\n",
       "\n"
      ],
      "text/plain": [
       "  prenom email                    date_naissance pays          taille\n",
       "1 Leila  leila@example.com        1990-01-23     France        1.49  \n",
       "2 Samuel samuel_329@example.com   2001-09-20     NA            1.67  \n",
       "3 Radia  choupipoune@supermail.eu <NA>           Côte d'ivoire 1.52  \n",
       "4 Marc   marco23@example.com      1978-02-10     France        1.65  \n",
       "5 Heri   helloworld@supermail.eu  2008-03-05     Madagascar    1.34  \n",
       "6 Hanna  hanna2019@supermail.eu   1970-01-01     NA            1.52  \n",
       "7 samuël samuel_329@example.com   <NA>           Bénin         1.45  "
      ]
     },
     "metadata": {},
     "output_type": "display_data"
    }
   ],
   "source": [
    "data"
   ]
  },
  {
   "cell_type": "code",
   "execution_count": null,
   "metadata": {
    "collapsed": true
   },
   "outputs": [],
   "source": []
  }
 ],
 "metadata": {
  "kernelspec": {
   "display_name": "R",
   "language": "R",
   "name": "ir"
  },
  "language_info": {
   "codemirror_mode": "r",
   "file_extension": ".r",
   "mimetype": "text/x-r-source",
   "name": "R",
   "pygments_lexer": "r",
   "version": "3.3.3"
  }
 },
 "nbformat": 4,
 "nbformat_minor": 2
}
