{
 "cells": [
  {
   "cell_type": "code",
   "execution_count": 76,
   "metadata": {
    "collapsed": true
   },
   "outputs": [],
   "source": [
    "import pandas as pd"
   ]
  },
  {
   "cell_type": "code",
   "execution_count": 77,
   "metadata": {},
   "outputs": [],
   "source": [
    "data = pd.read_csv(\"operations.csv\", parse_dates=[1,2])"
   ]
  },
  {
   "cell_type": "code",
   "execution_count": 78,
   "metadata": {},
   "outputs": [],
   "source": [
    "data.columns = ['identifiant_transaction','date_operation','date_valeur',\n",
    "                'libelle','debit','credit','solde']"
   ]
  },
  {
   "cell_type": "code",
   "execution_count": 79,
   "metadata": {},
   "outputs": [
    {
     "name": "stdout",
     "output_type": "stream",
     "text": [
      "('XX', 1428)\n",
      "('CARTE', 247)\n",
      "('VIREMENT', 29)\n",
      "('LES', 20)\n",
      "('ANCIENS', 20)\n",
      "('ROBINSON', 20)\n",
      "('CHEZ', 16)\n",
      "('LUC', 16)\n",
      "('LA', 16)\n",
      "(\"L'EPICERIE\", 16)\n",
      "('DEMBAS', 16)\n",
      "('TOUPTIPRI', 12)\n",
      "('CCNCF', 9)\n",
      "('RETRAIT', 9)\n",
      "('PRELEVEMENT', 8)\n",
      "('RAPT', 8)\n",
      "('FORFAIT', 7)\n",
      "('COMPTE', 7)\n",
      "('SUPERBANK', 7)\n",
      "('TELEPHONE', 7)\n",
      "('DON', 7)\n",
      "('LOUVE', 7)\n",
      "('PERMANENT', 6)\n",
      "('LOYER', 6)\n",
      "('VELOC', 4)\n"
     ]
    }
   ],
   "source": [
    "from collections import Counter\n",
    "\n",
    "def most_common_words(labels):\n",
    "    words = []\n",
    "    for lab in labels:\n",
    "        words += lab.split(\" \")\n",
    "    counter = Counter(words)\n",
    "    for word in counter.most_common(100):\n",
    "        print(word)\n",
    "\n",
    "most_common_words(data['libelle'].values)"
   ]
  },
  {
   "cell_type": "code",
   "execution_count": 80,
   "metadata": {
    "collapsed": true
   },
   "outputs": [],
   "source": [
    "CATEGS = {\n",
    "    'LOYER': 'LOYER',\n",
    "    'FORFAIT COMPTE SUPERBANK': 'COTISATION BANCAIRE',\n",
    "    'LES ANCIENS ROBINSON': 'COURSES',\n",
    "    \"L'EPICERIE DENBAS\": 'COURSES',\n",
    "    'TELEPHONE': 'FACTURE TELEPHONE',\n",
    "    'LA CCNCF': 'TRANSPORT',\n",
    "    'CHEZ LUC': 'RESTAURANT',\n",
    "    'RAPT': 'TRANSPORT',\n",
    "    'TOUPTIPRI': 'COURSES',\n",
    "    'LA LOUVE': 'COURSES',\n",
    "    'VELOC': 'TRANSPORT'\n",
    "}\n",
    "\n",
    "TYPES = {\n",
    "    'CARTE': 'CARTE',\n",
    "    'VIR': 'VIREMENT',\n",
    "    'VIREMENT': 'VIREMENT',\n",
    "    'RETRAIT': 'RETRAIT',\n",
    "    'PRLV': 'PRELEVEMENT',\n",
    "    'DON': 'DON',\n",
    "}"
   ]
  },
  {
   "cell_type": "code",
   "execution_count": 81,
   "metadata": {
    "collapsed": true
   },
   "outputs": [],
   "source": [
    "LAST_BALANCE = 2400 # Solde du compte APRES la dernière opération en date\n",
    "EXPENSES = [80,200] # Bornes des catégories de dépense : petite, moyenne et grosse\n",
    "WEEKEND = [\"Saturday\",\"Sunday\"] # Jours non travaillés"
   ]
  },
  {
   "cell_type": "code",
   "execution_count": 1,
   "metadata": {},
   "outputs": [
    {
     "ename": "NameError",
     "evalue": "name 'data' is not defined",
     "output_type": "error",
     "traceback": [
      "\u001b[1;31m---------------------------------------------------------------------------\u001b[0m",
      "\u001b[1;31mNameError\u001b[0m                                 Traceback (most recent call last)",
      "\u001b[1;32m<ipython-input-1-e0882818eca3>\u001b[0m in \u001b[0;36m<module>\u001b[1;34m\u001b[0m\n\u001b[0;32m      1\u001b[0m \u001b[1;31m# Controle des colonnes\u001b[0m\u001b[1;33m\u001b[0m\u001b[1;33m\u001b[0m\u001b[1;33m\u001b[0m\u001b[0m\n\u001b[0;32m      2\u001b[0m \u001b[1;32mfor\u001b[0m \u001b[0mc\u001b[0m \u001b[1;32min\u001b[0m \u001b[1;33m[\u001b[0m\u001b[1;34m'date_operation'\u001b[0m\u001b[1;33m,\u001b[0m\u001b[1;34m'libelle'\u001b[0m\u001b[1;33m,\u001b[0m\u001b[1;34m'debit'\u001b[0m\u001b[1;33m,\u001b[0m\u001b[1;34m'credit'\u001b[0m\u001b[1;33m]\u001b[0m\u001b[1;33m:\u001b[0m\u001b[1;33m\u001b[0m\u001b[1;33m\u001b[0m\u001b[0m\n\u001b[1;32m----> 3\u001b[1;33m     \u001b[1;32mif\u001b[0m \u001b[0mc\u001b[0m \u001b[1;32mnot\u001b[0m \u001b[1;32min\u001b[0m \u001b[0mdata\u001b[0m\u001b[1;33m.\u001b[0m\u001b[0mcolumns\u001b[0m\u001b[1;33m:\u001b[0m\u001b[1;33m\u001b[0m\u001b[1;33m\u001b[0m\u001b[0m\n\u001b[0m\u001b[0;32m      4\u001b[0m         \u001b[1;32mif\u001b[0m \u001b[1;33m(\u001b[0m\u001b[0mc\u001b[0m \u001b[1;32min\u001b[0m \u001b[1;33m[\u001b[0m\u001b[1;34m'debit'\u001b[0m\u001b[1;33m,\u001b[0m\u001b[1;34m'credit'\u001b[0m\u001b[1;33m]\u001b[0m \u001b[1;32mand\u001b[0m \u001b[1;34m'montant'\u001b[0m \u001b[1;32mnot\u001b[0m \u001b[1;32min\u001b[0m \u001b[0mdata\u001b[0m\u001b[1;33m.\u001b[0m\u001b[0mcolumns\u001b[0m\u001b[1;33m)\u001b[0m \u001b[1;32mor\u001b[0m\u001b[0;31m \u001b[0m\u001b[0;31m\\\u001b[0m\u001b[1;33m\u001b[0m\u001b[1;33m\u001b[0m\u001b[0m\n\u001b[0;32m      5\u001b[0m         \u001b[1;33m(\u001b[0m\u001b[0mc\u001b[0m \u001b[1;32mnot\u001b[0m \u001b[1;32min\u001b[0m \u001b[1;33m[\u001b[0m\u001b[1;34m'debit'\u001b[0m\u001b[1;33m,\u001b[0m\u001b[1;34m'credit'\u001b[0m\u001b[1;33m]\u001b[0m\u001b[1;33m)\u001b[0m\u001b[1;33m:\u001b[0m\u001b[1;33m\u001b[0m\u001b[1;33m\u001b[0m\u001b[0m\n",
      "\u001b[1;31mNameError\u001b[0m: name 'data' is not defined"
     ]
    }
   ],
   "source": [
    "# Controle des colonnes\n",
    "for c in ['date_operation','libelle','debit','credit']:\n",
    "    if c not in data.columns:\n",
    "        if (c in ['debit','credit'] and 'montant' not in data.columns) or \\\n",
    "        (c not in ['debit','credit']):\n",
    "            msg = \"Il vous manque la colonne '{}'. Attention aux majuscules \"\n",
    "            msg += \"et minuscules dans le nom des colonnes!\"\n",
    "            raise Exception(msg.format(c))\n",
    "\n",
    "# Suppression des colonnes innutiles\n",
    "for c in data.columns:\n",
    "    if c not in ['date_operation','libelle','debit','credit','montant']:\n",
    "        del data[c]\n",
    "\n",
    "# Ajout de la colonne 'montant' si besoin\n",
    "if 'montant' not in data.columns:\n",
    "    data[\"debit\"] = data[\"debit\"].fillna(0)\n",
    "    data[\"credit\"] = data[\"credit\"].fillna(0)\n",
    "    data[\"montant\"] = data[\"debit\"] + data[\"credit\"]\n",
    "    del data[\"credit\"], data[\"debit\"]\n",
    "\n",
    "# creation de la variable 'solde_avt_ope'\n",
    "data = data.sort_values(\"date_operation\")\n",
    "amount = data[\"montant\"]\n",
    "balance = amount.cumsum()\n",
    "balance = list(balance.values)\n",
    "last_val = balance[-1]\n",
    "balance = [0] + balance[:-1]\n",
    "balance = balance - last_val + LAST_BALANCE\n",
    "data[\"solde_avt_ope\"] = balance\n",
    "\n",
    "# Assignation des operations a une categorie et a un type\n",
    "def detect_words(values, dictionary):\n",
    "    result = []\n",
    "    for lib in values:\n",
    "        operation_type = \"AUTRE\"\n",
    "        for word, val in dictionary.items():\n",
    "            if word in lib:\n",
    "                operation_type = val\n",
    "        result.append(operation_type)\n",
    "    return result\n",
    "data[\"categ\"] = detect_words(data[\"libelle\"], CATEGS)\n",
    "data[\"type\"] = detect_words(data[\"libelle\"], TYPES)\n",
    "\n",
    "# creation des variables 'tranche_depense' et 'sens'\n",
    "def expense_slice(value):\n",
    "    value = -value # Les dépenses sont des nombres négatifs\n",
    "    if value < 0:\n",
    "        return \"(pas une dépense)\"\n",
    "    elif value < EXPENSES[0]:\n",
    "        return \"petite\"\n",
    "    elif value < EXPENSES[1]:\n",
    "        return \"moyenne\"\n",
    "    else:\n",
    "        return \"grosse\"\n",
    "data[\"tranche_depense\"] = data[\"montant\"].map(expense_slice)\n",
    "data[\"sens\"] = [\"credit\" if m > 0 else \"debit\" for m in data[\"montant\"]]\n",
    "\n",
    "# Creation des autres variables\n",
    "data[\"annee\"] = data[\"date_operation\"].map(lambda d: d.year)\n",
    "data[\"mois\"] = data[\"date_operation\"].map(lambda d: d.month)\n",
    "data[\"jour\"] = data[\"date_operation\"].map(lambda d: d.day)\n",
    "data[\"jour_sem\"] = data[\"date_operation\"].map(lambda d: d.weekday_name)\n",
    "data[\"jour_sem_num\"] = data[\"date_operation\"].map(lambda d: d.weekday()+1)\n",
    "data[\"weekend\"] = data[\"jour_sem\"].isin(WEEKEND)\n",
    "data[\"quart_mois\"] = [int((jour-1)*4/31)+1 for jour in data[\"jour\"]]\n",
    "        \n",
    "# Enregistrement au format CSV\n",
    "data.to_csv(\"operations_enrichies.csv\",index=False)"
   ]
  },
  {
   "cell_type": "code",
   "execution_count": null,
   "metadata": {},
   "outputs": [],
   "source": []
  }
 ],
 "metadata": {
  "kernelspec": {
   "display_name": "Python 3",
   "language": "python",
   "name": "python3"
  },
  "language_info": {
   "codemirror_mode": {
    "name": "ipython",
    "version": 3
   },
   "file_extension": ".py",
   "mimetype": "text/x-python",
   "name": "python",
   "nbconvert_exporter": "python",
   "pygments_lexer": "ipython3",
   "version": "3.8.5"
  }
 },
 "nbformat": 4,
 "nbformat_minor": 2
}
