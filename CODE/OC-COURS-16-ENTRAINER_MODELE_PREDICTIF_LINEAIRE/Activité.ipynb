{
 "cells": [
  {
   "cell_type": "code",
   "execution_count": 28,
   "metadata": {},
   "outputs": [],
   "source": [
    "# On commence par importer les bibliothèques nécessaires\n",
    "import random\n",
    "import numpy as np\n",
    "import pandas as pd\n",
    "import matplotlib.pyplot as plt\n",
    "\n",
    "from sklearn.preprocessing import StandardScaler\n",
    "from sklearn.preprocessing import LabelEncoder\n",
    "from sklearn.model_selection import train_test_split\n",
    "from sklearn.model_selection import GridSearchCV\n",
    "from sklearn.neighbors import KNeighborsClassifier\n",
    "from sklearn.svm import LinearSVC\n",
    "from sklearn.metrics import confusion_matrix\n",
    "from sklearn.multiclass import OneVsRestClassifier\n",
    "from sklearn.metrics import auc\n",
    "from sklearn.metrics import roc_curve\n",
    "\n",
    "random.seed(10)"
   ]
  },
  {
   "cell_type": "markdown",
   "metadata": {},
   "source": [
    "### Introduction\n",
    "\n",
    "On étudie le dataset de feuilles d'arbres téléchargeable au lien suivant: https://www.kaggle.com/c/leaf-classification/data, ou sur le site d'Openclassrooms dans l'énoncé de cette activité.<br><br>\n",
    "On n'utilise que le test d'entraînement proposé au téléchargement (Dataset_feuilles_1.csv) que l'on va diviser en un set de test et un set d'entraînement, car le set de test donné ne comprend pas la colonne target et ne permet donc pas d'évaluer un score. <br><br>\n",
    "On souhaite entraîner un algorithme de machine learning afin de pouvoir catégoriser ces feuilles d'arbres par espèce d’arbre à partir de leur caractéristiques (essentiellement 3 vecteurs de dimension 64 - margin, shape & texture). <br><br>\n",
    "L'objectif de cette activité est d'améliorer avec une SVM multi-classes le score de la baseline, c'est-à-dire le score obtenu en catégorisant les feuilles grâce à l'algorithme k_NN des plus proches voisins. \n",
    "\n",
    "\n",
    "### 1. Chargement, nettoyage et exploration préliminaire des données\n",
    "\n",
    "On commence par charger les données dans une dataframe pandas.<br>\n",
    "On sépare ensuite les données en un set d'entraînement et un set de test.<br>"
   ]
  },
  {
   "cell_type": "code",
   "execution_count": 29,
   "metadata": {},
   "outputs": [
    {
     "name": "stdout",
     "output_type": "stream",
     "text": [
      "(990, 194)\n"
     ]
    }
   ],
   "source": [
    "# On charge les données\n",
    "raw_set = pd.read_csv('Dataset_feuilles_1.csv')\n",
    "\n",
    "# Exploration préliminaire\n",
    "print(raw_set.shape)\n",
    "#print(raw_set.head())\n",
    "\n",
    "# On remplace la colonne species par un encodage sous forme d'entiers\n",
    "labelencoder = LabelEncoder()\n",
    "raw_set['species'] = labelencoder.fit_transform(raw_set['species'])\n",
    "\n",
    "# NB : pour récupérer les libellés originaux, il faudra utiliser inverse_transform\n",
    "#raw_set['species'] = labelencoder.inverse_transform(raw_set['species'])\n",
    "\n",
    "# On sépare les features de la colonne target à prédire\n",
    "# On retire la colonne 'id' qui n'est pas utile à la prédiction.\n",
    "target = raw_set['species']\n",
    "features = raw_set.drop(['species', 'id'], axis=1)\n",
    "\n",
    "# On répartit les données en un set d'entraînement et un set de test. \n",
    "X_train, X_test, y_train, y_test = train_test_split(features, target, test_size = 0.3)\n",
    "\n",
    "# On normalise les features\n",
    "scaler = StandardScaler()\n",
    "X_train = scaler.fit_transform(X_train)\n",
    "X_test = scaler.transform(X_test)"
   ]
  },
  {
   "cell_type": "markdown",
   "metadata": {},
   "source": [
    "### 2. Baseline: k-NN\n",
    "On choisit les paramètres du k-NN à appliquer avec une GridSearch sur les données d'entraînement.<br>\n",
    "On fitte ensuite le modèle k-NN obtenu sur le set d'entraînement. <br>\n",
    "On récupère le score de ce modèle sur le set de test: ce score est la baseline qu'il faut améliorer."
   ]
  },
  {
   "cell_type": "code",
   "execution_count": 30,
   "metadata": {
    "scrolled": true
   },
   "outputs": [
    {
     "name": "stdout",
     "output_type": "stream",
     "text": [
      "\n",
      "Le meilleur score par cross-validation sur le training set pour l'algorithme k-NN a été obtenu pour:\n",
      "    - la métrique euclidean pour calculer les distances entre points\n",
      "    - 3 voisins\n",
      "    - une pondération 'distance' du vote des points \n",
      "      NB : => 'distance' signifie que les points les plus distants comptent moins.\n",
      "           => 'uniform' signifie que tous les voisins pris en compte ont une importance égale.\n",
      "      \n",
      "Le score de l'estimateur résultant sur le test set est de 0.956229.\n",
      "\n"
     ]
    }
   ],
   "source": [
    "# A travers une Grid Search, on applique l'algorithme :\n",
    "# - Pour toutes les valeurs du paramètre n entre 3 et 9 voisins. \n",
    "# - Pour deux manières d'attribuer des poids aux points lors du vote de la catégorie\n",
    "# - Pour deux manières de calculer la distance entre les points.\n",
    "# La meilleure combinaison sera choisie par cross-validation sur le set d'entraînement.\n",
    "# On choisit comme métrique d'évaluation 'accuracy' (exactitude), \n",
    "# qui est la métrique par défaut pour les problèmes de classification. \n",
    "\n",
    "grid_params = {'n_neighbors' : range(3, 10),\n",
    "               'weights'     : ['uniform', 'distance'],\n",
    "               'metric'      : ['euclidean', 'manhattan']}\n",
    "\n",
    "gs_knn = GridSearchCV(KNeighborsClassifier(), grid_params, \n",
    "                      scoring='accuracy', verbose=0, cv=3, iid=True)\n",
    "gs_knn.fit(X_train, y_train)\n",
    "\n",
    "knn = gs_knn.best_estimator_\n",
    "knn_score = knn.score(X_test, y_test)\n",
    "\n",
    "result_knn = '''\n",
    "Le meilleur score par cross-validation sur le training set pour l'algorithme k-NN a été obtenu pour:\n",
    "    - la métrique {0} pour calculer les distances entre points\n",
    "    - {1} voisins\n",
    "    - une pondération '{2}' du vote des points \n",
    "      NB : => 'distance' signifie que les points les plus distants comptent moins.\n",
    "           => 'uniform' signifie que tous les voisins pris en compte ont une importance égale.\n",
    "      \n",
    "Le score de l'estimateur résultant sur le test set est de {3:5f}.\n",
    "'''\n",
    "\n",
    "print(result_knn.format(gs_knn.best_params_['metric'],\n",
    "                        gs_knn.best_params_['n_neighbors'],\n",
    "                        gs_knn.best_params_['weights'],\n",
    "                        knn_score))"
   ]
  },
  {
   "cell_type": "markdown",
   "metadata": {},
   "source": [
    "### 3. SVM multi-classes\n",
    "On tente d'améliorer le score du k-NN avec une SVM multi-classes. "
   ]
  },
  {
   "cell_type": "code",
   "execution_count": 34,
   "metadata": {
    "scrolled": true
   },
   "outputs": [
    {
     "name": "stdout",
     "output_type": "stream",
     "text": [
      "Fitting 3 folds for each of 20 candidates, totalling 60 fits\n"
     ]
    },
    {
     "name": "stderr",
     "output_type": "stream",
     "text": [
      "[Parallel(n_jobs=-1)]: Using backend LokyBackend with 4 concurrent workers.\n",
      "[Parallel(n_jobs=-1)]: Done  24 tasks      | elapsed:    9.8s\n",
      "[Parallel(n_jobs=-1)]: Done  60 out of  60 | elapsed:  4.7min finished\n",
      "/home/lea/anaconda3/lib/python3.7/site-packages/sklearn/svm/base.py:931: ConvergenceWarning: Liblinear failed to converge, increase the number of iterations.\n",
      "  \"the number of iterations.\", ConvergenceWarning)\n"
     ]
    },
    {
     "name": "stdout",
     "output_type": "stream",
     "text": [
      "\n",
      "Le meilleur score par cross-validation sur le training set avec une SVM a été obtenu pour:\n",
      "    - Un paramètre de régularisation C de 0.1\n",
      "    - La méthode multi-classes 'crammer_singer'\n",
      "    - La norme l1\n",
      "\n",
      "Le score de l'estimateur résultant sur le test set est de 0.976431.\n",
      "\n"
     ]
    }
   ],
   "source": [
    "grid_params = { 'C': np.logspace(-2, 2, 5),\n",
    "                'multi_class' : ['ovr', 'crammer_singer'],\n",
    "                'penalty' : ['l1', 'l2']  }\n",
    "\n",
    "# Dans notre cas, il y a plus d'observations que de features\n",
    "# On choisit donc de résoudre le problème primal (dual=False)\n",
    "gs_svc = GridSearchCV(LinearSVC(dual=False, max_iter=2000),\n",
    "                      grid_params, scoring='accuracy', verbose=3, \n",
    "                      cv=3, iid=True, n_jobs=-1)\n",
    "gs_svc.fit(X_train, y_train)\n",
    "\n",
    "svc = gs_svc.best_estimator_\n",
    "svc_score = svc.score(X_test, y_test)\n",
    "\n",
    "result_svc = '''\n",
    "Le meilleur score par cross-validation sur le training set avec une SVM a été obtenu pour:\n",
    "    - Un paramètre de régularisation C de {0}\n",
    "    - La méthode multi-classes '{1}'\n",
    "    - La norme {2}\n",
    "\n",
    "Le score de l'estimateur résultant sur le test set est de {3:5f}.\n",
    "'''\n",
    "\n",
    "print(result_svc.format(gs_svc.best_params_['C'],\n",
    "                        gs_svc.best_params_['multi_class'],\n",
    "                        gs_svc.best_params_['penalty'],\n",
    "                        svc_score))"
   ]
  },
  {
   "cell_type": "markdown",
   "metadata": {},
   "source": [
    "### 4. Visualisation des performances des deux modèles \n",
    "L'exactitude (accuracy) est le nombre de prédictions correctes divisé par le nombre de prédictions. Si l'on se fonde sur cette métrique, le modèle choisi est la SVM multi-classes, car son score est supérieur à celui du knn. <br><br>\n",
    "On tente de visualiser ici un peu plus précisément les performances de chacun des deux modèles via une autre métrique: l'aire sous la courbe ROC. <br><br>\n",
    "Le souci est que l'aire sous la courbe ROC convient plutôt aux classifieurs mono-classe. On considère donc, pour chaque classe du dataset, le problème mono-classe *\"l'observation apartient-elle à l'espèce choisie, ou non?\"*, et on évalue cette métrique pour ce problème. On en fait ensuite une moyenne sur toutes les classes. "
   ]
  },
  {
   "cell_type": "code",
   "execution_count": 35,
   "metadata": {},
   "outputs": [
    {
     "name": "stdout",
     "output_type": "stream",
     "text": [
      "En moyenne sur toutes les classes:\n",
      "- le score auc_roc obtenu via knn est de 0.989289\n",
      "- le score auc_roc obtenu via svc est de 0.996420\n"
     ]
    }
   ],
   "source": [
    "def get_auc_roc(clf, y_score, model):\n",
    "     \n",
    "    # Calcul de l'aire sous la courbe ROC pour chaque classe\n",
    "    fpr = dict()\n",
    "    tpr = dict()\n",
    "    roc_auc = dict()\n",
    "    thresholds = dict()\n",
    "    classes = set(y_test)\n",
    "\n",
    "    for i in classes:        \n",
    "        \n",
    "        # Aire sous la courbe ROC pour le problème:\n",
    "        # \"L'observation apartient-elle à l'espèce i ?\"\"\n",
    "        y_test_ = y_test == i\n",
    "        y_test_ = y_test_.astype(int)\n",
    "        fpr[i], tpr[i], thresholds[i] = roc_curve(y_test_, y_score[:, i], drop_intermediate=False)\n",
    "        roc_auc[i] = auc(fpr[i], tpr[i])\n",
    "    \n",
    "    # On récupère la classe pour laquelle l'algorithme est le moins performant\n",
    "    mini = min(roc_auc, key=roc_auc.get)\n",
    "    \n",
    "    # On fait la moyenne des scores obtenus\n",
    "    roc_mean_ = np.mean(np.array(list(roc_auc.values())))\n",
    "    \n",
    "    result_ = (roc_mean_, fpr[mini], tpr[mini], roc_auc[mini], mini, model)\n",
    "    return result_\n",
    "\n",
    "clf_knn = OneVsRestClassifier(knn)\n",
    "y_score_knn = clf_knn.fit(X_train, y_train).predict_proba(X_test)\n",
    "result_knn = get_auc_roc(clf_knn, y_score_knn, 'knn')\n",
    "\n",
    "clf_svc = OneVsRestClassifier(svc)\n",
    "y_score_svc = clf_svc.fit(X_train, y_train).decision_function(X_test)\n",
    "result_svc  = get_auc_roc(clf_svc, y_score_svc, 'svc')\n",
    "\n",
    "result_roc = '''En moyenne sur toutes les classes:\n",
    "- le score auc_roc obtenu via knn est de {0:5f}\n",
    "- le score auc_roc obtenu via svc est de {1:5f}'''\n",
    "\n",
    "print(result_roc.format(result_knn[0], result_svc[0]))"
   ]
  },
  {
   "cell_type": "markdown",
   "metadata": {},
   "source": [
    "La svc obtient donc un meilleur score que le knn pour la métrique roc_auc comme pour l'accuracy. "
   ]
  },
  {
   "cell_type": "code",
   "execution_count": 37,
   "metadata": {},
   "outputs": [
    {
     "name": "stdout",
     "output_type": "stream",
     "text": [
      "Pour l'algorithme knn:\n",
      "    - La pire prédiction est obtenue pour l'espèce Prunus_X_Shmittii. \n",
      "    - La courbe ROC correspondante est obtenue avec 3 paliers.\n"
     ]
    },
    {
     "data": {
      "image/png": "[encoded data removed]",
      "text/plain": [
       "<Figure size 432x288 with 1 Axes>"
      ]
     },
     "metadata": {
      "needs_background": "light"
     },
     "output_type": "display_data"
    },
    {
     "name": "stdout",
     "output_type": "stream",
     "text": [
      "Pour l'algorithme svc:\n",
      "    - La pire prédiction est obtenue pour l'espèce Prunus_X_Shmittii. \n",
      "    - La courbe ROC correspondante est obtenue avec 298 paliers.\n"
     ]
    },
    {
     "data": {
      "image/png": "[encoded data removed]",
      "text/plain": [
       "<Figure size 432x288 with 1 Axes>"
      ]
     },
     "metadata": {
      "needs_background": "light"
     },
     "output_type": "display_data"
    }
   ],
   "source": [
    "def visualization(result_):\n",
    "    \n",
    "    fpr = result_[1]\n",
    "    tpr = result_[2]\n",
    "    auc = result_[3]\n",
    "    mini = result_[4]\n",
    "    model = result_[5]\n",
    "    \n",
    "    specie = labelencoder.inverse_transform([mini])[0]\n",
    "    \n",
    "    worst = '''Pour l'algorithme {0}:\n",
    "    - La pire prédiction est obtenue pour l'espèce {1}. \n",
    "    - La courbe ROC correspondante est obtenue avec {2} paliers.'''\n",
    "    \n",
    "    print(worst.format(model, specie, fpr.shape[0]))\n",
    "    \n",
    "    plt.figure()\n",
    "    plt.plot(fpr, tpr, 'go-', label='ROC curve (area = %0.10f)' % auc)\n",
    "    plt.plot([0, 1], [0, 1], 'k--')\n",
    "    plt.xlim([0.0, 1.0])\n",
    "    plt.ylim([0.0, 1.05])\n",
    "    plt.xlabel('False Positive Rate')\n",
    "    plt.ylabel('True Positive Rate')\n",
    "    title = '{0} - {1} - ROC for species {2}'.format(mini, model, specie)\n",
    "    plt.title(title)\n",
    "    plt.legend(loc=\"lower right\")\n",
    "    plt.show()\n",
    "\n",
    "visualization(result_knn)\n",
    "visualization(result_svc)"
   ]
  },
  {
   "cell_type": "markdown",
   "metadata": {},
   "source": [
    "Une remarque : l'aspect linéaire de la courbe ROC construite à partir de l'algorithme knn vient du faible nombre de paliers utilisés pour cet algorithme. <br><br>\n",
    "Le faible nombre de paliers provient du fait qu'avec l'algorithme sélectionné et utilisé pour le problème mono-classe décrit plus haut, la probabilité qu'un point appartienne à la classe considérée ne peut prendre que n valeurs, car elle est calculée en ne tenant compte que des n voisins du point donné. "
   ]
  },
  {
   "cell_type": "markdown",
   "metadata": {},
   "source": [
    "### 5. Conclusion\n",
    "\n",
    "En conclusion, et après évaluation des modèles svc et knn, on choisira le modèle svc dont le score est meilleur à la fois en termes d'accuracy et d'aire sous la courbe ROC."
   ]
  }
 ],
 "metadata": {
  "kernelspec": {
   "display_name": "Python 3",
   "language": "python",
   "name": "python3"
  },
  "language_info": {
   "codemirror_mode": {
    "name": "ipython",
    "version": 3
   },
   "file_extension": ".py",
   "mimetype": "text/x-python",
   "name": "python",
   "nbconvert_exporter": "python",
   "pygments_lexer": "ipython3",
   "version": "3.8.5"
  }
 },
 "nbformat": 4,
 "nbformat_minor": 2
}
